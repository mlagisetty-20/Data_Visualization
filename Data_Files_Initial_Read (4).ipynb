{
 "cells": [
  {
   "cell_type": "code",
   "execution_count": null,
   "id": "b1c60502-e20e-41cb-a1fe-499e2e3d60a2",
   "metadata": {},
   "outputs": [],
   "source": [
    "#referenced pandas documentation or plotly documentation for developing code.\n",
    "#https://transition.fcc.gov/oet/info/maps/census/fips/fips.txt (reached out about state code- was sent a link)\n",
    "#reached out to nsch data for questions\n",
    "#helped me work through the bytestring!- https://www.freecodecamp.org/news/python-bytes-to-string-how-to-convert-a-bytestring/\n",
    "#https://www.interviewkickstart.com/blog/learn/adding-new-column-to-existing-dataframe-in-pandas (using .insert method)\n",
    "#helped me understand that nan is a float- https://towardsdatascience.com/5-methods-to-check-for-nan-values-in-in-python-3f21ddd17eed#:~:text=NaN%20stands%20for%20Not%20A,any%20other%20type%20than%20float\n",
    "#https://pandas.pydata.org/pandas-docs/stable/reference/api/pandas.DataFrame.groupby.html\n",
    "#https://stackoverflow.com/questions/73466713/unmerge-cells-when-using-groupby-pandas (unmerging groupby cells)\n",
    "#nsch codebook for reference & data source is nsch!\n",
    "#https://www.tutorialspoint.com/how-to-get-rows-index-names-in-pandas-dataframe (getting rownames from the dataset that correspond!)"
   ]
  },
  {
   "cell_type": "code",
   "execution_count": 1,
   "id": "cb592ff1-dc6b-4190-952d-64ccab21839f",
   "metadata": {},
   "outputs": [],
   "source": [
    "import pandas as pd\n",
    "import numpy as np\n",
    "import matplotlib.pyplot as plt\n",
    "import plotly.express as px"
   ]
  },
  {
   "cell_type": "code",
   "execution_count": 2,
   "id": "089e102d-04f0-424b-989f-468d60354527",
   "metadata": {},
   "outputs": [],
   "source": [
    "full_data_frame = pd.read_sas('nsch_2022e_topical.sas7bdat')\n",
    "#full_data_frame"
   ]
  },
  {
   "cell_type": "code",
   "execution_count": 3,
   "id": "72974bf0-6acf-429f-906d-a6f4e8934872",
   "metadata": {},
   "outputs": [],
   "source": [
    "subset_for_state_maps = full_data_frame[['FIPSST', 'SC_AGE_YEARS']]\n",
    "subset_for_state_maps = subset_for_state_maps.rename(columns = {'SC_AGE_YEARS': 'child_age'})"
   ]
  },
  {
   "cell_type": "code",
   "execution_count": 4,
   "id": "e1d8f704-5016-481f-b685-6ba7f5c4e2b1",
   "metadata": {},
   "outputs": [],
   "source": [
    "#subset_for_state_maps['FIPSST'].values"
   ]
  },
  {
   "cell_type": "code",
   "execution_count": 5,
   "id": "68e5a34d-01b9-43a7-b44d-cd295de1ad7c",
   "metadata": {},
   "outputs": [],
   "source": [
    "list_code = subset_for_state_maps['FIPSST'].tolist()"
   ]
  },
  {
   "cell_type": "code",
   "execution_count": 6,
   "id": "c2d38a3d-1819-4201-a96c-25217840085f",
   "metadata": {},
   "outputs": [],
   "source": [
    "states_as_numbers = []\n",
    "for item in list_code:\n",
    "    item = item.decode(\"utf-8\")\n",
    "    states_as_numbers.append(item)"
   ]
  },
  {
   "cell_type": "code",
   "execution_count": 7,
   "id": "5eb93de4-2323-43f6-a0b0-133cd82fd61a",
   "metadata": {},
   "outputs": [],
   "source": [
    "subset_for_state_maps.insert(1, \"states_as_numbers\", states_as_numbers)"
   ]
  },
  {
   "cell_type": "code",
   "execution_count": 8,
   "id": "5fd6b295-0ffb-4329-ab16-9b21d298c699",
   "metadata": {},
   "outputs": [],
   "source": [
    "#subset_for_state_maps"
   ]
  },
  {
   "cell_type": "code",
   "execution_count": 9,
   "id": "56e4354c-2bd1-4d6b-8c3e-0052fe3570e5",
   "metadata": {},
   "outputs": [
    {
     "data": {
      "text/html": [
       "<div>\n",
       "<style scoped>\n",
       "    .dataframe tbody tr th:only-of-type {\n",
       "        vertical-align: middle;\n",
       "    }\n",
       "\n",
       "    .dataframe tbody tr th {\n",
       "        vertical-align: top;\n",
       "    }\n",
       "\n",
       "    .dataframe thead th {\n",
       "        text-align: right;\n",
       "    }\n",
       "</style>\n",
       "<table border=\"1\" class=\"dataframe\">\n",
       "  <thead>\n",
       "    <tr style=\"text-align: right;\">\n",
       "      <th></th>\n",
       "      <th>young_child_age</th>\n",
       "      <th>affectionate_child</th>\n",
       "      <th>child_bounces_back</th>\n",
       "      <th>curious_child</th>\n",
       "      <th>child_smile_laugh</th>\n",
       "    </tr>\n",
       "  </thead>\n",
       "  <tbody>\n",
       "    <tr>\n",
       "      <th>0</th>\n",
       "      <td>5.0</td>\n",
       "      <td>1.0</td>\n",
       "      <td>1.0</td>\n",
       "      <td>1.0</td>\n",
       "      <td>1.0</td>\n",
       "    </tr>\n",
       "    <tr>\n",
       "      <th>2</th>\n",
       "      <td>5.0</td>\n",
       "      <td>1.0</td>\n",
       "      <td>2.0</td>\n",
       "      <td>1.0</td>\n",
       "      <td>1.0</td>\n",
       "    </tr>\n",
       "    <tr>\n",
       "      <th>5</th>\n",
       "      <td>2.0</td>\n",
       "      <td>1.0</td>\n",
       "      <td>2.0</td>\n",
       "      <td>1.0</td>\n",
       "      <td>1.0</td>\n",
       "    </tr>\n",
       "    <tr>\n",
       "      <th>6</th>\n",
       "      <td>0.0</td>\n",
       "      <td>1.0</td>\n",
       "      <td>1.0</td>\n",
       "      <td>1.0</td>\n",
       "      <td>1.0</td>\n",
       "    </tr>\n",
       "    <tr>\n",
       "      <th>8</th>\n",
       "      <td>0.0</td>\n",
       "      <td>1.0</td>\n",
       "      <td>1.0</td>\n",
       "      <td>1.0</td>\n",
       "      <td>1.0</td>\n",
       "    </tr>\n",
       "    <tr>\n",
       "      <th>...</th>\n",
       "      <td>...</td>\n",
       "      <td>...</td>\n",
       "      <td>...</td>\n",
       "      <td>...</td>\n",
       "      <td>...</td>\n",
       "    </tr>\n",
       "    <tr>\n",
       "      <th>54086</th>\n",
       "      <td>5.0</td>\n",
       "      <td>1.0</td>\n",
       "      <td>3.0</td>\n",
       "      <td>1.0</td>\n",
       "      <td>1.0</td>\n",
       "    </tr>\n",
       "    <tr>\n",
       "      <th>54089</th>\n",
       "      <td>4.0</td>\n",
       "      <td>1.0</td>\n",
       "      <td>2.0</td>\n",
       "      <td>1.0</td>\n",
       "      <td>2.0</td>\n",
       "    </tr>\n",
       "    <tr>\n",
       "      <th>54093</th>\n",
       "      <td>3.0</td>\n",
       "      <td>2.0</td>\n",
       "      <td>4.0</td>\n",
       "      <td>1.0</td>\n",
       "      <td>1.0</td>\n",
       "    </tr>\n",
       "    <tr>\n",
       "      <th>54097</th>\n",
       "      <td>2.0</td>\n",
       "      <td>2.0</td>\n",
       "      <td>2.0</td>\n",
       "      <td>2.0</td>\n",
       "      <td>2.0</td>\n",
       "    </tr>\n",
       "    <tr>\n",
       "      <th>54100</th>\n",
       "      <td>2.0</td>\n",
       "      <td>1.0</td>\n",
       "      <td>1.0</td>\n",
       "      <td>1.0</td>\n",
       "      <td>1.0</td>\n",
       "    </tr>\n",
       "  </tbody>\n",
       "</table>\n",
       "<p>19741 rows × 5 columns</p>\n",
       "</div>"
      ],
      "text/plain": [
       "       young_child_age  affectionate_child  child_bounces_back  curious_child  \\\n",
       "0                  5.0                 1.0                 1.0            1.0   \n",
       "2                  5.0                 1.0                 2.0            1.0   \n",
       "5                  2.0                 1.0                 2.0            1.0   \n",
       "6                  0.0                 1.0                 1.0            1.0   \n",
       "8                  0.0                 1.0                 1.0            1.0   \n",
       "...                ...                 ...                 ...            ...   \n",
       "54086              5.0                 1.0                 3.0            1.0   \n",
       "54089              4.0                 1.0                 2.0            1.0   \n",
       "54093              3.0                 2.0                 4.0            1.0   \n",
       "54097              2.0                 2.0                 2.0            2.0   \n",
       "54100              2.0                 1.0                 1.0            1.0   \n",
       "\n",
       "       child_smile_laugh  \n",
       "0                    1.0  \n",
       "2                    1.0  \n",
       "5                    1.0  \n",
       "6                    1.0  \n",
       "8                    1.0  \n",
       "...                  ...  \n",
       "54086                1.0  \n",
       "54089                2.0  \n",
       "54093                1.0  \n",
       "54097                2.0  \n",
       "54100                1.0  \n",
       "\n",
       "[19741 rows x 5 columns]"
      ]
     },
     "execution_count": 9,
     "metadata": {},
     "output_type": "execute_result"
    }
   ],
   "source": [
    "young_flourishing_df = full_data_frame[['SC_AGE_YEARS', 'K6Q70_R', 'K6Q73_R', 'K6Q71_R', 'K6Q72_R']]\n",
    "young_flourishing_df = young_flourishing_df.loc[full_data_frame['SC_AGE_YEARS'] < 6.0]\n",
    "young_flourishing_df = young_flourishing_df.rename(columns = {'SC_AGE_YEARS': 'young_child_age', 'K6Q70_R': 'affectionate_child', 'K6Q73_R': 'child_bounces_back', \n",
    "                                                              'K6Q71_R': 'curious_child', 'K6Q72_R': 'child_smile_laugh'})\n",
    "young_flourishing_df"
   ]
  },
  {
   "cell_type": "code",
   "execution_count": 10,
   "id": "fea9d3d5-1540-404b-8b2e-e50900622e65",
   "metadata": {},
   "outputs": [
    {
     "data": {
      "text/html": [
       "<div>\n",
       "<style scoped>\n",
       "    .dataframe tbody tr th:only-of-type {\n",
       "        vertical-align: middle;\n",
       "    }\n",
       "\n",
       "    .dataframe tbody tr th {\n",
       "        vertical-align: top;\n",
       "    }\n",
       "\n",
       "    .dataframe thead th {\n",
       "        text-align: right;\n",
       "    }\n",
       "</style>\n",
       "<table border=\"1\" class=\"dataframe\">\n",
       "  <thead>\n",
       "    <tr style=\"text-align: right;\">\n",
       "      <th></th>\n",
       "      <th>age_of_school_child</th>\n",
       "      <th>curiosity_learning</th>\n",
       "      <th>task_completion</th>\n",
       "      <th>emotional_regulation</th>\n",
       "    </tr>\n",
       "  </thead>\n",
       "  <tbody>\n",
       "    <tr>\n",
       "      <th>1</th>\n",
       "      <td>8.0</td>\n",
       "      <td>1.0</td>\n",
       "      <td>3.0</td>\n",
       "      <td>3.0</td>\n",
       "    </tr>\n",
       "    <tr>\n",
       "      <th>3</th>\n",
       "      <td>6.0</td>\n",
       "      <td>1.0</td>\n",
       "      <td>2.0</td>\n",
       "      <td>2.0</td>\n",
       "    </tr>\n",
       "    <tr>\n",
       "      <th>7</th>\n",
       "      <td>8.0</td>\n",
       "      <td>1.0</td>\n",
       "      <td>2.0</td>\n",
       "      <td>1.0</td>\n",
       "    </tr>\n",
       "    <tr>\n",
       "      <th>12</th>\n",
       "      <td>9.0</td>\n",
       "      <td>1.0</td>\n",
       "      <td>2.0</td>\n",
       "      <td>2.0</td>\n",
       "    </tr>\n",
       "    <tr>\n",
       "      <th>14</th>\n",
       "      <td>6.0</td>\n",
       "      <td>2.0</td>\n",
       "      <td>2.0</td>\n",
       "      <td>3.0</td>\n",
       "    </tr>\n",
       "    <tr>\n",
       "      <th>...</th>\n",
       "      <td>...</td>\n",
       "      <td>...</td>\n",
       "      <td>...</td>\n",
       "      <td>...</td>\n",
       "    </tr>\n",
       "    <tr>\n",
       "      <th>54090</th>\n",
       "      <td>10.0</td>\n",
       "      <td>2.0</td>\n",
       "      <td>1.0</td>\n",
       "      <td>3.0</td>\n",
       "    </tr>\n",
       "    <tr>\n",
       "      <th>54091</th>\n",
       "      <td>6.0</td>\n",
       "      <td>1.0</td>\n",
       "      <td>1.0</td>\n",
       "      <td>1.0</td>\n",
       "    </tr>\n",
       "    <tr>\n",
       "      <th>54095</th>\n",
       "      <td>9.0</td>\n",
       "      <td>2.0</td>\n",
       "      <td>2.0</td>\n",
       "      <td>2.0</td>\n",
       "    </tr>\n",
       "    <tr>\n",
       "      <th>54099</th>\n",
       "      <td>9.0</td>\n",
       "      <td>1.0</td>\n",
       "      <td>1.0</td>\n",
       "      <td>1.0</td>\n",
       "    </tr>\n",
       "    <tr>\n",
       "      <th>54101</th>\n",
       "      <td>6.0</td>\n",
       "      <td>2.0</td>\n",
       "      <td>3.0</td>\n",
       "      <td>3.0</td>\n",
       "    </tr>\n",
       "  </tbody>\n",
       "</table>\n",
       "<p>15334 rows × 4 columns</p>\n",
       "</div>"
      ],
      "text/plain": [
       "       age_of_school_child  curiosity_learning  task_completion  \\\n",
       "1                      8.0                 1.0              3.0   \n",
       "3                      6.0                 1.0              2.0   \n",
       "7                      8.0                 1.0              2.0   \n",
       "12                     9.0                 1.0              2.0   \n",
       "14                     6.0                 2.0              2.0   \n",
       "...                    ...                 ...              ...   \n",
       "54090                 10.0                 2.0              1.0   \n",
       "54091                  6.0                 1.0              1.0   \n",
       "54095                  9.0                 2.0              2.0   \n",
       "54099                  9.0                 1.0              1.0   \n",
       "54101                  6.0                 2.0              3.0   \n",
       "\n",
       "       emotional_regulation  \n",
       "1                       3.0  \n",
       "3                       2.0  \n",
       "7                       1.0  \n",
       "12                      2.0  \n",
       "14                      3.0  \n",
       "...                     ...  \n",
       "54090                   3.0  \n",
       "54091                   1.0  \n",
       "54095                   2.0  \n",
       "54099                   1.0  \n",
       "54101                   3.0  \n",
       "\n",
       "[15334 rows x 4 columns]"
      ]
     },
     "execution_count": 10,
     "metadata": {},
     "output_type": "execute_result"
    }
   ],
   "source": [
    "school_age_flourishing_df = full_data_frame[['SC_AGE_YEARS', 'K6Q71_R', 'K7Q84_R', 'K7Q85_R']]\n",
    "school_age_flourishing_df = school_age_flourishing_df.loc[(full_data_frame['SC_AGE_YEARS'] >= 6.0) & (full_data_frame['SC_AGE_YEARS'] < 12.0)]\n",
    "school_age_flourishing_df = school_age_flourishing_df.rename(columns = {'SC_AGE_YEARS': 'age_of_school_child', 'K6Q71_R': 'curiosity_learning', \n",
    "                                                                        'K7Q84_R': 'task_completion', 'K7Q85_R': 'emotional_regulation'})\n",
    "school_age_flourishing_df"
   ]
  },
  {
   "cell_type": "code",
   "execution_count": 11,
   "id": "29b5a3db-365e-4442-9953-0aa7355b75d2",
   "metadata": {},
   "outputs": [
    {
     "data": {
      "text/html": [
       "<div>\n",
       "<style scoped>\n",
       "    .dataframe tbody tr th:only-of-type {\n",
       "        vertical-align: middle;\n",
       "    }\n",
       "\n",
       "    .dataframe tbody tr th {\n",
       "        vertical-align: top;\n",
       "    }\n",
       "\n",
       "    .dataframe thead th {\n",
       "        text-align: right;\n",
       "    }\n",
       "</style>\n",
       "<table border=\"1\" class=\"dataframe\">\n",
       "  <thead>\n",
       "    <tr style=\"text-align: right;\">\n",
       "      <th></th>\n",
       "      <th>adolescent_age</th>\n",
       "      <th>curiosity_learning</th>\n",
       "      <th>task_completion</th>\n",
       "      <th>emotional_regulation</th>\n",
       "    </tr>\n",
       "  </thead>\n",
       "  <tbody>\n",
       "    <tr>\n",
       "      <th>4</th>\n",
       "      <td>17.0</td>\n",
       "      <td>1.0</td>\n",
       "      <td>2.0</td>\n",
       "      <td>2.0</td>\n",
       "    </tr>\n",
       "    <tr>\n",
       "      <th>9</th>\n",
       "      <td>12.0</td>\n",
       "      <td>2.0</td>\n",
       "      <td>1.0</td>\n",
       "      <td>2.0</td>\n",
       "    </tr>\n",
       "    <tr>\n",
       "      <th>10</th>\n",
       "      <td>12.0</td>\n",
       "      <td>2.0</td>\n",
       "      <td>2.0</td>\n",
       "      <td>3.0</td>\n",
       "    </tr>\n",
       "    <tr>\n",
       "      <th>16</th>\n",
       "      <td>17.0</td>\n",
       "      <td>2.0</td>\n",
       "      <td>2.0</td>\n",
       "      <td>2.0</td>\n",
       "    </tr>\n",
       "    <tr>\n",
       "      <th>17</th>\n",
       "      <td>15.0</td>\n",
       "      <td>1.0</td>\n",
       "      <td>2.0</td>\n",
       "      <td>2.0</td>\n",
       "    </tr>\n",
       "    <tr>\n",
       "      <th>...</th>\n",
       "      <td>...</td>\n",
       "      <td>...</td>\n",
       "      <td>...</td>\n",
       "      <td>...</td>\n",
       "    </tr>\n",
       "    <tr>\n",
       "      <th>54092</th>\n",
       "      <td>13.0</td>\n",
       "      <td>3.0</td>\n",
       "      <td>3.0</td>\n",
       "      <td>2.0</td>\n",
       "    </tr>\n",
       "    <tr>\n",
       "      <th>54094</th>\n",
       "      <td>12.0</td>\n",
       "      <td>1.0</td>\n",
       "      <td>1.0</td>\n",
       "      <td>2.0</td>\n",
       "    </tr>\n",
       "    <tr>\n",
       "      <th>54096</th>\n",
       "      <td>17.0</td>\n",
       "      <td>2.0</td>\n",
       "      <td>1.0</td>\n",
       "      <td>1.0</td>\n",
       "    </tr>\n",
       "    <tr>\n",
       "      <th>54098</th>\n",
       "      <td>13.0</td>\n",
       "      <td>2.0</td>\n",
       "      <td>2.0</td>\n",
       "      <td>2.0</td>\n",
       "    </tr>\n",
       "    <tr>\n",
       "      <th>54102</th>\n",
       "      <td>13.0</td>\n",
       "      <td>2.0</td>\n",
       "      <td>2.0</td>\n",
       "      <td>1.0</td>\n",
       "    </tr>\n",
       "  </tbody>\n",
       "</table>\n",
       "<p>19028 rows × 4 columns</p>\n",
       "</div>"
      ],
      "text/plain": [
       "       adolescent_age  curiosity_learning  task_completion  \\\n",
       "4                17.0                 1.0              2.0   \n",
       "9                12.0                 2.0              1.0   \n",
       "10               12.0                 2.0              2.0   \n",
       "16               17.0                 2.0              2.0   \n",
       "17               15.0                 1.0              2.0   \n",
       "...               ...                 ...              ...   \n",
       "54092            13.0                 3.0              3.0   \n",
       "54094            12.0                 1.0              1.0   \n",
       "54096            17.0                 2.0              1.0   \n",
       "54098            13.0                 2.0              2.0   \n",
       "54102            13.0                 2.0              2.0   \n",
       "\n",
       "       emotional_regulation  \n",
       "4                       2.0  \n",
       "9                       2.0  \n",
       "10                      3.0  \n",
       "16                      2.0  \n",
       "17                      2.0  \n",
       "...                     ...  \n",
       "54092                   2.0  \n",
       "54094                   2.0  \n",
       "54096                   1.0  \n",
       "54098                   2.0  \n",
       "54102                   1.0  \n",
       "\n",
       "[19028 rows x 4 columns]"
      ]
     },
     "execution_count": 11,
     "metadata": {},
     "output_type": "execute_result"
    }
   ],
   "source": [
    "teen_flourishing_df = full_data_frame[['SC_AGE_YEARS','K6Q71_R', 'K7Q84_R', 'K7Q85_R']]\n",
    "teen_flourishing_df = teen_flourishing_df.loc[full_data_frame['SC_AGE_YEARS'] >= 12.0]\n",
    "teen_flourishing_df = teen_flourishing_df.rename(columns = {'SC_AGE_YEARS': 'adolescent_age', 'K6Q71_R': 'curiosity_learning', \n",
    "                                                                        'K7Q84_R': 'task_completion', 'K7Q85_R': 'emotional_regulation'})\n",
    "teen_flourishing_df"
   ]
  },
  {
   "cell_type": "code",
   "execution_count": 12,
   "id": "c7898c1b-d4e2-4fa1-a1bd-1847ad66bdf8",
   "metadata": {},
   "outputs": [],
   "source": [
    "subset_for_state_maps = subset_for_state_maps.drop(columns = ['FIPSST'])\n",
    "#subset_for_state_maps"
   ]
  },
  {
   "cell_type": "code",
   "execution_count": 13,
   "id": "1573a05e-bd1e-4c11-9f97-82fc34a8d51d",
   "metadata": {},
   "outputs": [],
   "source": [
    "subset_for_state_maps = subset_for_state_maps.replace({'01' : 'AL', '02': 'AK', '04': 'AZ', '05': 'AR', '06': 'CA', '08': \n",
    "                                                       'CO', '09': 'CT', '10': 'DE', '11': 'DC', '12': 'FL', \n",
    "                                                       '13': 'GA', '15': 'HI', '16': 'ID', '17': 'IL', '18': 'IN', '19': 'IA', \n",
    "                                                       '20': 'KS', '21': 'KY', '22': 'LA', '23': 'ME', '24': 'MD', '25': 'MA',\n",
    "                                                       '26': 'MI', '27': 'MN', '28': 'MS', '29': 'MO', '30': 'MT', \n",
    "                                                       '31': 'NE', '32': 'NV', '33': 'NH', '34': 'NJ', '35': 'NM', \n",
    "                                                       '36': 'NY', '37': 'NC', '38': 'ND', '39': 'OH','40': 'OK', '41': 'OR', \n",
    "                                                       '42': 'PA', '44': 'RI', '45': 'SC', '46': 'SD', \n",
    "                                                       '47': 'TN', '48': 'TX', '49': 'UT', '50': 'VT', '51': 'VA', '53': 'WA', \n",
    "                                                       '54': 'WV', '55': 'WI','56': 'WY'\n",
    "                            })\n",
    "subset_for_state_maps = subset_for_state_maps.rename(columns = {'states_as_numbers': 'states'})\n",
    "#subset_for_state_maps"
   ]
  },
  {
   "cell_type": "code",
   "execution_count": 43,
   "id": "06eaf495-9aa5-4c01-bb47-bf1d38d492a7",
   "metadata": {},
   "outputs": [],
   "source": [
    "def meets_flourishing_criteria(subset_for_state_maps, df, column_name):\n",
    "    if df is young_flourishing_df:\n",
    "        subset_for_state_maps = subset_for_state_maps.loc[subset_for_state_maps['child_age'] < 6.0]\n",
    "    elif df is school_age_flourishing_df:\n",
    "        subset_for_state_maps = subset_for_state_maps.loc[(subset_for_state_maps['child_age'] >= 6.0) & (subset_for_state_maps['child_age'] < 12.0)]\n",
    "    else:\n",
    "        subset_for_state_maps = subset_for_state_maps.loc[subset_for_state_maps['child_age'] >= 12.0]   \n",
    "    column_to_review = df[column_name].tolist()\n",
    "    flourishing_yes_no = []\n",
    "    for item in column_to_review:\n",
    "        if item == 1.0:\n",
    "            flourishing_yes_no.append(1.0)\n",
    "            #flourishing_yes_no.append('flourishing')\n",
    "        elif item == 2.0:\n",
    "            flourishing_yes_no.append(1.0)\n",
    "            #flourishing_yes_no.append('flourishing')\n",
    "        elif item == 3.0:\n",
    "            flourishing_yes_no.append(0.0)\n",
    "            #flourishing_yes_no.append('not_flourishing')\n",
    "        elif item == 3.0:\n",
    "            flourishing_yes_no.append(0.0)\n",
    "            #flourishing_yes_no.append('not_flourishing') \n",
    "        else:\n",
    "            flourishing_yes_no.append(float('NaN'))\n",
    "    subset_for_state_maps.insert(2, column_name, flourishing_yes_no)\n",
    "    subset_for_state_maps = subset_for_state_maps.dropna()\n",
    "    subset_for_state_maps = subset_for_state_maps.groupby(['states'], as_index = False).mean()\n",
    "    if column_name == 'affectionate_child':\n",
    "        fig = px.choropleth(locations = subset_for_state_maps['states'], locationmode=\"USA-states\", color = subset_for_state_maps[column_name], color_continuous_scale = 'blues', scope=\"usa\", title = 'What percentage of young children are always or usually affectionate?')\n",
    "    elif column_name == 'child_bounces_back':\n",
    "        fig = px.choropleth(locations = subset_for_state_maps['states'], locationmode=\"USA-states\", color = subset_for_state_maps[column_name], color_continuous_scale = 'blues', scope=\"usa\", title = 'What percentage of young children are always or usually bounce back?')\n",
    "    elif column_name == 'curious_child':\n",
    "        fig = px.choropleth(locations = subset_for_state_maps['states'], locationmode=\"USA-states\", color = subset_for_state_maps[column_name], color_continuous_scale = 'blues', scope=\"usa\", title = 'What percentage of young children are always or usually curious?')\n",
    "    elif column_name == 'child_smile_laugh':\n",
    "        fig = px.choropleth(locations = subset_for_state_maps['states'], locationmode=\"USA-states\", color = subset_for_state_maps[column_name], color_continuous_scale = 'blues', scope=\"usa\", title = 'What percentage of young children are always or usually smiling and laughing?')   \n",
    "    elif (df is school_age_flourishing_df) and (column_name == 'curiosity_learning'):\n",
    "        fig = px.choropleth(locations = subset_for_state_maps['states'], locationmode=\"USA-states\", color = subset_for_state_maps[column_name], color_continuous_scale = 'greens', scope=\"usa\", title = 'What percentage of school-age children are always or usually curious?')\n",
    "    elif (df is school_age_flourishing_df) and (column_name == 'task_completion'):\n",
    "        fig = px.choropleth(locations = subset_for_state_maps['states'], locationmode=\"USA-states\", color = subset_for_state_maps[column_name], color_continuous_scale = 'greens', scope=\"usa\", title = 'What percentage of school-age children are always or usually completing tasks?')\n",
    "    elif (df is school_age_flourishing_df) and (column_name == 'emotional_regulation'):\n",
    "        fig = px.choropleth(locations = subset_for_state_maps['states'], locationmode=\"USA-states\", color = subset_for_state_maps[column_name], color_continuous_scale = 'greens', scope=\"usa\", title = 'What percentage of school-age children are always or usually successfully managing their emotions?')\n",
    "    elif (df is teen_flourishing_df) and (column_name == 'curiosity_learning'):\n",
    "        fig = px.choropleth(locations = subset_for_state_maps['states'], locationmode=\"USA-states\", color = subset_for_state_maps[column_name], color_continuous_scale = 'purples', scope=\"usa\", title = 'What percentage of teenagers are always or usually curious?')\n",
    "    elif (df is teen_flourishing_df) and (column_name == 'task_completion'):\n",
    "        fig = px.choropleth(locations = subset_for_state_maps['states'], locationmode=\"USA-states\", color = subset_for_state_maps[column_name], color_continuous_scale = 'purples', scope=\"usa\", title = 'What percentage of teenagers are always or usually completing tasks?')\n",
    "    else:\n",
    "        fig = px.choropleth(locations = subset_for_state_maps['states'], locationmode=\"USA-states\", color = subset_for_state_maps[column_name], color_continuous_scale = 'purples', scope=\"usa\", title = 'What percentage of teenagers are always or usually successfully managing their emotions?')\n",
    "    fig.update_layout(title_x=0.5, margin=dict(l=20, r=20, t=40, b=20))\n",
    "    return fig\n",
    "#note- where 1 indicates flourishing, and 0 indicates not flourishing\n",
    "#note- fix title here because it seems misleading!!"
   ]
  },
  {
   "cell_type": "code",
   "execution_count": 48,
   "id": "918e9fdd-bc44-4e7e-abbf-5e7521afeef9",
   "metadata": {},
   "outputs": [],
   "source": [
    "current_set = meets_flourishing_criteria(subset_for_state_maps, young_flourishing_df, 'child_smile_laugh')"
   ]
  },
  {
   "cell_type": "code",
   "execution_count": 39,
   "id": "8c425083-82f9-4d69-adc5-55e6644c8ed5",
   "metadata": {},
   "outputs": [
    {
     "data": {
      "application/vnd.plotly.v1+json": {
       "config": {
        "plotlyServerURL": "https://plot.ly"
       },
       "data": [
        {
         "coloraxis": "coloraxis",
         "geo": "geo",
         "hovertemplate": "locations=%{location}<br>color=%{z}<extra></extra>",
         "locationmode": "USA-states",
         "locations": [
          "AK",
          "AL",
          "AR",
          "AZ",
          "CA",
          "CO",
          "CT",
          "DC",
          "DE",
          "FL",
          "GA",
          "HI",
          "IA",
          "ID",
          "IL",
          "IN",
          "KS",
          "KY",
          "LA",
          "MA",
          "MD",
          "ME",
          "MI",
          "MN",
          "MO",
          "MS",
          "MT",
          "NC",
          "ND",
          "NE",
          "NH",
          "NJ",
          "NM",
          "NV",
          "NY",
          "OH",
          "OK",
          "OR",
          "PA",
          "RI",
          "SC",
          "SD",
          "TN",
          "TX",
          "UT",
          "VA",
          "VT",
          "WA",
          "WI",
          "WV",
          "WY"
         ],
         "name": "",
         "type": "choropleth",
         "z": [
          0.7450980392156863,
          0.7673469387755102,
          0.75390625,
          0.7692307692307693,
          0.7712793733681462,
          0.7364864864864865,
          0.8007968127490039,
          0.7421383647798742,
          0.7490494296577946,
          0.7649769585253456,
          0.7807606263982103,
          0.8339622641509434,
          0.7697841726618705,
          0.7213740458015268,
          0.8024691358024691,
          0.7689243027888446,
          0.7677165354330708,
          0.7431906614785992,
          0.7744360902255639,
          0.7862595419847328,
          0.7711864406779662,
          0.6953125,
          0.7695167286245354,
          0.7410358565737052,
          0.7729083665338645,
          0.7782608695652173,
          0.719626168224299,
          0.7686567164179104,
          0.7692307692307693,
          0.7463126843657817,
          0.7423076923076923,
          0.8082191780821918,
          0.7611940298507462,
          0.7339901477832512,
          0.7889390519187359,
          0.7461832061068703,
          0.7368421052631579,
          0.7519553072625699,
          0.7641509433962265,
          0.7459016393442623,
          0.7764227642276422,
          0.7790262172284644,
          0.7455357142857143,
          0.734375,
          0.7613636363636364,
          0.7470355731225297,
          0.7541666666666667,
          0.7447698744769874,
          0.7656903765690377,
          0.7007575757575758,
          0.7606635071090048
         ]
        }
       ],
       "layout": {
        "autosize": true,
        "coloraxis": {
         "colorbar": {
          "title": {
           "text": "color"
          }
         },
         "colorscale": [
          [
           0,
           "rgb(252,251,253)"
          ],
          [
           0.125,
           "rgb(239,237,245)"
          ],
          [
           0.25,
           "rgb(218,218,235)"
          ],
          [
           0.375,
           "rgb(188,189,220)"
          ],
          [
           0.5,
           "rgb(158,154,200)"
          ],
          [
           0.625,
           "rgb(128,125,186)"
          ],
          [
           0.75,
           "rgb(106,81,163)"
          ],
          [
           0.875,
           "rgb(84,39,143)"
          ],
          [
           1,
           "rgb(63,0,125)"
          ]
         ]
        },
        "geo": {
         "center": {},
         "domain": {
          "x": [
           0,
           1
          ],
          "y": [
           0,
           1
          ]
         },
         "scope": "usa"
        },
        "legend": {
         "tracegroupgap": 0
        },
        "margin": {
         "b": 20,
         "l": 20,
         "r": 20,
         "t": 40
        },
        "template": {
         "data": {
          "bar": [
           {
            "error_x": {
             "color": "#2a3f5f"
            },
            "error_y": {
             "color": "#2a3f5f"
            },
            "marker": {
             "line": {
              "color": "#E5ECF6",
              "width": 0.5
             },
             "pattern": {
              "fillmode": "overlay",
              "size": 10,
              "solidity": 0.2
             }
            },
            "type": "bar"
           }
          ],
          "barpolar": [
           {
            "marker": {
             "line": {
              "color": "#E5ECF6",
              "width": 0.5
             },
             "pattern": {
              "fillmode": "overlay",
              "size": 10,
              "solidity": 0.2
             }
            },
            "type": "barpolar"
           }
          ],
          "carpet": [
           {
            "aaxis": {
             "endlinecolor": "#2a3f5f",
             "gridcolor": "white",
             "linecolor": "white",
             "minorgridcolor": "white",
             "startlinecolor": "#2a3f5f"
            },
            "baxis": {
             "endlinecolor": "#2a3f5f",
             "gridcolor": "white",
             "linecolor": "white",
             "minorgridcolor": "white",
             "startlinecolor": "#2a3f5f"
            },
            "type": "carpet"
           }
          ],
          "choropleth": [
           {
            "colorbar": {
             "outlinewidth": 0,
             "ticks": ""
            },
            "type": "choropleth"
           }
          ],
          "contour": [
           {
            "colorbar": {
             "outlinewidth": 0,
             "ticks": ""
            },
            "colorscale": [
             [
              0,
              "#0d0887"
             ],
             [
              0.1111111111111111,
              "#46039f"
             ],
             [
              0.2222222222222222,
              "#7201a8"
             ],
             [
              0.3333333333333333,
              "#9c179e"
             ],
             [
              0.4444444444444444,
              "#bd3786"
             ],
             [
              0.5555555555555556,
              "#d8576b"
             ],
             [
              0.6666666666666666,
              "#ed7953"
             ],
             [
              0.7777777777777778,
              "#fb9f3a"
             ],
             [
              0.8888888888888888,
              "#fdca26"
             ],
             [
              1,
              "#f0f921"
             ]
            ],
            "type": "contour"
           }
          ],
          "contourcarpet": [
           {
            "colorbar": {
             "outlinewidth": 0,
             "ticks": ""
            },
            "type": "contourcarpet"
           }
          ],
          "heatmap": [
           {
            "colorbar": {
             "outlinewidth": 0,
             "ticks": ""
            },
            "colorscale": [
             [
              0,
              "#0d0887"
             ],
             [
              0.1111111111111111,
              "#46039f"
             ],
             [
              0.2222222222222222,
              "#7201a8"
             ],
             [
              0.3333333333333333,
              "#9c179e"
             ],
             [
              0.4444444444444444,
              "#bd3786"
             ],
             [
              0.5555555555555556,
              "#d8576b"
             ],
             [
              0.6666666666666666,
              "#ed7953"
             ],
             [
              0.7777777777777778,
              "#fb9f3a"
             ],
             [
              0.8888888888888888,
              "#fdca26"
             ],
             [
              1,
              "#f0f921"
             ]
            ],
            "type": "heatmap"
           }
          ],
          "heatmapgl": [
           {
            "colorbar": {
             "outlinewidth": 0,
             "ticks": ""
            },
            "colorscale": [
             [
              0,
              "#0d0887"
             ],
             [
              0.1111111111111111,
              "#46039f"
             ],
             [
              0.2222222222222222,
              "#7201a8"
             ],
             [
              0.3333333333333333,
              "#9c179e"
             ],
             [
              0.4444444444444444,
              "#bd3786"
             ],
             [
              0.5555555555555556,
              "#d8576b"
             ],
             [
              0.6666666666666666,
              "#ed7953"
             ],
             [
              0.7777777777777778,
              "#fb9f3a"
             ],
             [
              0.8888888888888888,
              "#fdca26"
             ],
             [
              1,
              "#f0f921"
             ]
            ],
            "type": "heatmapgl"
           }
          ],
          "histogram": [
           {
            "marker": {
             "pattern": {
              "fillmode": "overlay",
              "size": 10,
              "solidity": 0.2
             }
            },
            "type": "histogram"
           }
          ],
          "histogram2d": [
           {
            "colorbar": {
             "outlinewidth": 0,
             "ticks": ""
            },
            "colorscale": [
             [
              0,
              "#0d0887"
             ],
             [
              0.1111111111111111,
              "#46039f"
             ],
             [
              0.2222222222222222,
              "#7201a8"
             ],
             [
              0.3333333333333333,
              "#9c179e"
             ],
             [
              0.4444444444444444,
              "#bd3786"
             ],
             [
              0.5555555555555556,
              "#d8576b"
             ],
             [
              0.6666666666666666,
              "#ed7953"
             ],
             [
              0.7777777777777778,
              "#fb9f3a"
             ],
             [
              0.8888888888888888,
              "#fdca26"
             ],
             [
              1,
              "#f0f921"
             ]
            ],
            "type": "histogram2d"
           }
          ],
          "histogram2dcontour": [
           {
            "colorbar": {
             "outlinewidth": 0,
             "ticks": ""
            },
            "colorscale": [
             [
              0,
              "#0d0887"
             ],
             [
              0.1111111111111111,
              "#46039f"
             ],
             [
              0.2222222222222222,
              "#7201a8"
             ],
             [
              0.3333333333333333,
              "#9c179e"
             ],
             [
              0.4444444444444444,
              "#bd3786"
             ],
             [
              0.5555555555555556,
              "#d8576b"
             ],
             [
              0.6666666666666666,
              "#ed7953"
             ],
             [
              0.7777777777777778,
              "#fb9f3a"
             ],
             [
              0.8888888888888888,
              "#fdca26"
             ],
             [
              1,
              "#f0f921"
             ]
            ],
            "type": "histogram2dcontour"
           }
          ],
          "mesh3d": [
           {
            "colorbar": {
             "outlinewidth": 0,
             "ticks": ""
            },
            "type": "mesh3d"
           }
          ],
          "parcoords": [
           {
            "line": {
             "colorbar": {
              "outlinewidth": 0,
              "ticks": ""
             }
            },
            "type": "parcoords"
           }
          ],
          "pie": [
           {
            "automargin": true,
            "type": "pie"
           }
          ],
          "scatter": [
           {
            "fillpattern": {
             "fillmode": "overlay",
             "size": 10,
             "solidity": 0.2
            },
            "type": "scatter"
           }
          ],
          "scatter3d": [
           {
            "line": {
             "colorbar": {
              "outlinewidth": 0,
              "ticks": ""
             }
            },
            "marker": {
             "colorbar": {
              "outlinewidth": 0,
              "ticks": ""
             }
            },
            "type": "scatter3d"
           }
          ],
          "scattercarpet": [
           {
            "marker": {
             "colorbar": {
              "outlinewidth": 0,
              "ticks": ""
             }
            },
            "type": "scattercarpet"
           }
          ],
          "scattergeo": [
           {
            "marker": {
             "colorbar": {
              "outlinewidth": 0,
              "ticks": ""
             }
            },
            "type": "scattergeo"
           }
          ],
          "scattergl": [
           {
            "marker": {
             "colorbar": {
              "outlinewidth": 0,
              "ticks": ""
             }
            },
            "type": "scattergl"
           }
          ],
          "scattermapbox": [
           {
            "marker": {
             "colorbar": {
              "outlinewidth": 0,
              "ticks": ""
             }
            },
            "type": "scattermapbox"
           }
          ],
          "scatterpolar": [
           {
            "marker": {
             "colorbar": {
              "outlinewidth": 0,
              "ticks": ""
             }
            },
            "type": "scatterpolar"
           }
          ],
          "scatterpolargl": [
           {
            "marker": {
             "colorbar": {
              "outlinewidth": 0,
              "ticks": ""
             }
            },
            "type": "scatterpolargl"
           }
          ],
          "scatterternary": [
           {
            "marker": {
             "colorbar": {
              "outlinewidth": 0,
              "ticks": ""
             }
            },
            "type": "scatterternary"
           }
          ],
          "surface": [
           {
            "colorbar": {
             "outlinewidth": 0,
             "ticks": ""
            },
            "colorscale": [
             [
              0,
              "#0d0887"
             ],
             [
              0.1111111111111111,
              "#46039f"
             ],
             [
              0.2222222222222222,
              "#7201a8"
             ],
             [
              0.3333333333333333,
              "#9c179e"
             ],
             [
              0.4444444444444444,
              "#bd3786"
             ],
             [
              0.5555555555555556,
              "#d8576b"
             ],
             [
              0.6666666666666666,
              "#ed7953"
             ],
             [
              0.7777777777777778,
              "#fb9f3a"
             ],
             [
              0.8888888888888888,
              "#fdca26"
             ],
             [
              1,
              "#f0f921"
             ]
            ],
            "type": "surface"
           }
          ],
          "table": [
           {
            "cells": {
             "fill": {
              "color": "#EBF0F8"
             },
             "line": {
              "color": "white"
             }
            },
            "header": {
             "fill": {
              "color": "#C8D4E3"
             },
             "line": {
              "color": "white"
             }
            },
            "type": "table"
           }
          ]
         },
         "layout": {
          "annotationdefaults": {
           "arrowcolor": "#2a3f5f",
           "arrowhead": 0,
           "arrowwidth": 1
          },
          "autotypenumbers": "strict",
          "coloraxis": {
           "colorbar": {
            "outlinewidth": 0,
            "ticks": ""
           }
          },
          "colorscale": {
           "diverging": [
            [
             0,
             "#8e0152"
            ],
            [
             0.1,
             "#c51b7d"
            ],
            [
             0.2,
             "#de77ae"
            ],
            [
             0.3,
             "#f1b6da"
            ],
            [
             0.4,
             "#fde0ef"
            ],
            [
             0.5,
             "#f7f7f7"
            ],
            [
             0.6,
             "#e6f5d0"
            ],
            [
             0.7,
             "#b8e186"
            ],
            [
             0.8,
             "#7fbc41"
            ],
            [
             0.9,
             "#4d9221"
            ],
            [
             1,
             "#276419"
            ]
           ],
           "sequential": [
            [
             0,
             "#0d0887"
            ],
            [
             0.1111111111111111,
             "#46039f"
            ],
            [
             0.2222222222222222,
             "#7201a8"
            ],
            [
             0.3333333333333333,
             "#9c179e"
            ],
            [
             0.4444444444444444,
             "#bd3786"
            ],
            [
             0.5555555555555556,
             "#d8576b"
            ],
            [
             0.6666666666666666,
             "#ed7953"
            ],
            [
             0.7777777777777778,
             "#fb9f3a"
            ],
            [
             0.8888888888888888,
             "#fdca26"
            ],
            [
             1,
             "#f0f921"
            ]
           ],
           "sequentialminus": [
            [
             0,
             "#0d0887"
            ],
            [
             0.1111111111111111,
             "#46039f"
            ],
            [
             0.2222222222222222,
             "#7201a8"
            ],
            [
             0.3333333333333333,
             "#9c179e"
            ],
            [
             0.4444444444444444,
             "#bd3786"
            ],
            [
             0.5555555555555556,
             "#d8576b"
            ],
            [
             0.6666666666666666,
             "#ed7953"
            ],
            [
             0.7777777777777778,
             "#fb9f3a"
            ],
            [
             0.8888888888888888,
             "#fdca26"
            ],
            [
             1,
             "#f0f921"
            ]
           ]
          },
          "colorway": [
           "#636efa",
           "#EF553B",
           "#00cc96",
           "#ab63fa",
           "#FFA15A",
           "#19d3f3",
           "#FF6692",
           "#B6E880",
           "#FF97FF",
           "#FECB52"
          ],
          "font": {
           "color": "#2a3f5f"
          },
          "geo": {
           "bgcolor": "white",
           "lakecolor": "white",
           "landcolor": "#E5ECF6",
           "showlakes": true,
           "showland": true,
           "subunitcolor": "white"
          },
          "hoverlabel": {
           "align": "left"
          },
          "hovermode": "closest",
          "mapbox": {
           "style": "light"
          },
          "paper_bgcolor": "white",
          "plot_bgcolor": "#E5ECF6",
          "polar": {
           "angularaxis": {
            "gridcolor": "white",
            "linecolor": "white",
            "ticks": ""
           },
           "bgcolor": "#E5ECF6",
           "radialaxis": {
            "gridcolor": "white",
            "linecolor": "white",
            "ticks": ""
           }
          },
          "scene": {
           "xaxis": {
            "backgroundcolor": "#E5ECF6",
            "gridcolor": "white",
            "gridwidth": 2,
            "linecolor": "white",
            "showbackground": true,
            "ticks": "",
            "zerolinecolor": "white"
           },
           "yaxis": {
            "backgroundcolor": "#E5ECF6",
            "gridcolor": "white",
            "gridwidth": 2,
            "linecolor": "white",
            "showbackground": true,
            "ticks": "",
            "zerolinecolor": "white"
           },
           "zaxis": {
            "backgroundcolor": "#E5ECF6",
            "gridcolor": "white",
            "gridwidth": 2,
            "linecolor": "white",
            "showbackground": true,
            "ticks": "",
            "zerolinecolor": "white"
           }
          },
          "shapedefaults": {
           "line": {
            "color": "#2a3f5f"
           }
          },
          "ternary": {
           "aaxis": {
            "gridcolor": "white",
            "linecolor": "white",
            "ticks": ""
           },
           "baxis": {
            "gridcolor": "white",
            "linecolor": "white",
            "ticks": ""
           },
           "bgcolor": "#E5ECF6",
           "caxis": {
            "gridcolor": "white",
            "linecolor": "white",
            "ticks": ""
           }
          },
          "title": {
           "x": 0.05
          },
          "xaxis": {
           "automargin": true,
           "gridcolor": "white",
           "linecolor": "white",
           "ticks": "",
           "title": {
            "standoff": 15
           },
           "zerolinecolor": "white",
           "zerolinewidth": 2
          },
          "yaxis": {
           "automargin": true,
           "gridcolor": "white",
           "linecolor": "white",
           "ticks": "",
           "title": {
            "standoff": 15
           },
           "zerolinecolor": "white",
           "zerolinewidth": 2
          }
         }
        },
        "title": {
         "text": "What percentage of teenagers are always or usually successfully managing their emotions?",
         "x": 0.5
        }
       }
      },
      "image/png": "[encoded data removed]",
      "text/html": [
       "<div>                            <div id=\"0151754b-f1f0-4fbf-af8f-1100bc8aa25b\" class=\"plotly-graph-div\" style=\"height:525px; width:100%;\"></div>            <script type=\"text/javascript\">                require([\"plotly\"], function(Plotly) {                    window.PLOTLYENV=window.PLOTLYENV || {};                                    if (document.getElementById(\"0151754b-f1f0-4fbf-af8f-1100bc8aa25b\")) {                    Plotly.newPlot(                        \"0151754b-f1f0-4fbf-af8f-1100bc8aa25b\",                        [{\"coloraxis\":\"coloraxis\",\"geo\":\"geo\",\"hovertemplate\":\"locations=%{location}\\u003cbr\\u003ecolor=%{z}\\u003cextra\\u003e\\u003c\\u002fextra\\u003e\",\"locationmode\":\"USA-states\",\"locations\":[\"AK\",\"AL\",\"AR\",\"AZ\",\"CA\",\"CO\",\"CT\",\"DC\",\"DE\",\"FL\",\"GA\",\"HI\",\"IA\",\"ID\",\"IL\",\"IN\",\"KS\",\"KY\",\"LA\",\"MA\",\"MD\",\"ME\",\"MI\",\"MN\",\"MO\",\"MS\",\"MT\",\"NC\",\"ND\",\"NE\",\"NH\",\"NJ\",\"NM\",\"NV\",\"NY\",\"OH\",\"OK\",\"OR\",\"PA\",\"RI\",\"SC\",\"SD\",\"TN\",\"TX\",\"UT\",\"VA\",\"VT\",\"WA\",\"WI\",\"WV\",\"WY\"],\"name\":\"\",\"z\":[0.7450980392156863,0.7673469387755102,0.75390625,0.7692307692307693,0.7712793733681462,0.7364864864864865,0.8007968127490039,0.7421383647798742,0.7490494296577946,0.7649769585253456,0.7807606263982103,0.8339622641509434,0.7697841726618705,0.7213740458015268,0.8024691358024691,0.7689243027888446,0.7677165354330708,0.7431906614785992,0.7744360902255639,0.7862595419847328,0.7711864406779662,0.6953125,0.7695167286245354,0.7410358565737052,0.7729083665338645,0.7782608695652173,0.719626168224299,0.7686567164179104,0.7692307692307693,0.7463126843657817,0.7423076923076923,0.8082191780821918,0.7611940298507462,0.7339901477832512,0.7889390519187359,0.7461832061068703,0.7368421052631579,0.7519553072625699,0.7641509433962265,0.7459016393442623,0.7764227642276422,0.7790262172284644,0.7455357142857143,0.734375,0.7613636363636364,0.7470355731225297,0.7541666666666667,0.7447698744769874,0.7656903765690377,0.7007575757575758,0.7606635071090048],\"type\":\"choropleth\"}],                        {\"template\":{\"data\":{\"histogram2dcontour\":[{\"type\":\"histogram2dcontour\",\"colorbar\":{\"outlinewidth\":0,\"ticks\":\"\"},\"colorscale\":[[0.0,\"#0d0887\"],[0.1111111111111111,\"#46039f\"],[0.2222222222222222,\"#7201a8\"],[0.3333333333333333,\"#9c179e\"],[0.4444444444444444,\"#bd3786\"],[0.5555555555555556,\"#d8576b\"],[0.6666666666666666,\"#ed7953\"],[0.7777777777777778,\"#fb9f3a\"],[0.8888888888888888,\"#fdca26\"],[1.0,\"#f0f921\"]]}],\"choropleth\":[{\"type\":\"choropleth\",\"colorbar\":{\"outlinewidth\":0,\"ticks\":\"\"}}],\"histogram2d\":[{\"type\":\"histogram2d\",\"colorbar\":{\"outlinewidth\":0,\"ticks\":\"\"},\"colorscale\":[[0.0,\"#0d0887\"],[0.1111111111111111,\"#46039f\"],[0.2222222222222222,\"#7201a8\"],[0.3333333333333333,\"#9c179e\"],[0.4444444444444444,\"#bd3786\"],[0.5555555555555556,\"#d8576b\"],[0.6666666666666666,\"#ed7953\"],[0.7777777777777778,\"#fb9f3a\"],[0.8888888888888888,\"#fdca26\"],[1.0,\"#f0f921\"]]}],\"heatmap\":[{\"type\":\"heatmap\",\"colorbar\":{\"outlinewidth\":0,\"ticks\":\"\"},\"colorscale\":[[0.0,\"#0d0887\"],[0.1111111111111111,\"#46039f\"],[0.2222222222222222,\"#7201a8\"],[0.3333333333333333,\"#9c179e\"],[0.4444444444444444,\"#bd3786\"],[0.5555555555555556,\"#d8576b\"],[0.6666666666666666,\"#ed7953\"],[0.7777777777777778,\"#fb9f3a\"],[0.8888888888888888,\"#fdca26\"],[1.0,\"#f0f921\"]]}],\"heatmapgl\":[{\"type\":\"heatmapgl\",\"colorbar\":{\"outlinewidth\":0,\"ticks\":\"\"},\"colorscale\":[[0.0,\"#0d0887\"],[0.1111111111111111,\"#46039f\"],[0.2222222222222222,\"#7201a8\"],[0.3333333333333333,\"#9c179e\"],[0.4444444444444444,\"#bd3786\"],[0.5555555555555556,\"#d8576b\"],[0.6666666666666666,\"#ed7953\"],[0.7777777777777778,\"#fb9f3a\"],[0.8888888888888888,\"#fdca26\"],[1.0,\"#f0f921\"]]}],\"contourcarpet\":[{\"type\":\"contourcarpet\",\"colorbar\":{\"outlinewidth\":0,\"ticks\":\"\"}}],\"contour\":[{\"type\":\"contour\",\"colorbar\":{\"outlinewidth\":0,\"ticks\":\"\"},\"colorscale\":[[0.0,\"#0d0887\"],[0.1111111111111111,\"#46039f\"],[0.2222222222222222,\"#7201a8\"],[0.3333333333333333,\"#9c179e\"],[0.4444444444444444,\"#bd3786\"],[0.5555555555555556,\"#d8576b\"],[0.6666666666666666,\"#ed7953\"],[0.7777777777777778,\"#fb9f3a\"],[0.8888888888888888,\"#fdca26\"],[1.0,\"#f0f921\"]]}],\"surface\":[{\"type\":\"surface\",\"colorbar\":{\"outlinewidth\":0,\"ticks\":\"\"},\"colorscale\":[[0.0,\"#0d0887\"],[0.1111111111111111,\"#46039f\"],[0.2222222222222222,\"#7201a8\"],[0.3333333333333333,\"#9c179e\"],[0.4444444444444444,\"#bd3786\"],[0.5555555555555556,\"#d8576b\"],[0.6666666666666666,\"#ed7953\"],[0.7777777777777778,\"#fb9f3a\"],[0.8888888888888888,\"#fdca26\"],[1.0,\"#f0f921\"]]}],\"mesh3d\":[{\"type\":\"mesh3d\",\"colorbar\":{\"outlinewidth\":0,\"ticks\":\"\"}}],\"scatter\":[{\"fillpattern\":{\"fillmode\":\"overlay\",\"size\":10,\"solidity\":0.2},\"type\":\"scatter\"}],\"parcoords\":[{\"type\":\"parcoords\",\"line\":{\"colorbar\":{\"outlinewidth\":0,\"ticks\":\"\"}}}],\"scatterpolargl\":[{\"type\":\"scatterpolargl\",\"marker\":{\"colorbar\":{\"outlinewidth\":0,\"ticks\":\"\"}}}],\"bar\":[{\"error_x\":{\"color\":\"#2a3f5f\"},\"error_y\":{\"color\":\"#2a3f5f\"},\"marker\":{\"line\":{\"color\":\"#E5ECF6\",\"width\":0.5},\"pattern\":{\"fillmode\":\"overlay\",\"size\":10,\"solidity\":0.2}},\"type\":\"bar\"}],\"scattergeo\":[{\"type\":\"scattergeo\",\"marker\":{\"colorbar\":{\"outlinewidth\":0,\"ticks\":\"\"}}}],\"scatterpolar\":[{\"type\":\"scatterpolar\",\"marker\":{\"colorbar\":{\"outlinewidth\":0,\"ticks\":\"\"}}}],\"histogram\":[{\"marker\":{\"pattern\":{\"fillmode\":\"overlay\",\"size\":10,\"solidity\":0.2}},\"type\":\"histogram\"}],\"scattergl\":[{\"type\":\"scattergl\",\"marker\":{\"colorbar\":{\"outlinewidth\":0,\"ticks\":\"\"}}}],\"scatter3d\":[{\"type\":\"scatter3d\",\"line\":{\"colorbar\":{\"outlinewidth\":0,\"ticks\":\"\"}},\"marker\":{\"colorbar\":{\"outlinewidth\":0,\"ticks\":\"\"}}}],\"scattermapbox\":[{\"type\":\"scattermapbox\",\"marker\":{\"colorbar\":{\"outlinewidth\":0,\"ticks\":\"\"}}}],\"scatterternary\":[{\"type\":\"scatterternary\",\"marker\":{\"colorbar\":{\"outlinewidth\":0,\"ticks\":\"\"}}}],\"scattercarpet\":[{\"type\":\"scattercarpet\",\"marker\":{\"colorbar\":{\"outlinewidth\":0,\"ticks\":\"\"}}}],\"carpet\":[{\"aaxis\":{\"endlinecolor\":\"#2a3f5f\",\"gridcolor\":\"white\",\"linecolor\":\"white\",\"minorgridcolor\":\"white\",\"startlinecolor\":\"#2a3f5f\"},\"baxis\":{\"endlinecolor\":\"#2a3f5f\",\"gridcolor\":\"white\",\"linecolor\":\"white\",\"minorgridcolor\":\"white\",\"startlinecolor\":\"#2a3f5f\"},\"type\":\"carpet\"}],\"table\":[{\"cells\":{\"fill\":{\"color\":\"#EBF0F8\"},\"line\":{\"color\":\"white\"}},\"header\":{\"fill\":{\"color\":\"#C8D4E3\"},\"line\":{\"color\":\"white\"}},\"type\":\"table\"}],\"barpolar\":[{\"marker\":{\"line\":{\"color\":\"#E5ECF6\",\"width\":0.5},\"pattern\":{\"fillmode\":\"overlay\",\"size\":10,\"solidity\":0.2}},\"type\":\"barpolar\"}],\"pie\":[{\"automargin\":true,\"type\":\"pie\"}]},\"layout\":{\"autotypenumbers\":\"strict\",\"colorway\":[\"#636efa\",\"#EF553B\",\"#00cc96\",\"#ab63fa\",\"#FFA15A\",\"#19d3f3\",\"#FF6692\",\"#B6E880\",\"#FF97FF\",\"#FECB52\"],\"font\":{\"color\":\"#2a3f5f\"},\"hovermode\":\"closest\",\"hoverlabel\":{\"align\":\"left\"},\"paper_bgcolor\":\"white\",\"plot_bgcolor\":\"#E5ECF6\",\"polar\":{\"bgcolor\":\"#E5ECF6\",\"angularaxis\":{\"gridcolor\":\"white\",\"linecolor\":\"white\",\"ticks\":\"\"},\"radialaxis\":{\"gridcolor\":\"white\",\"linecolor\":\"white\",\"ticks\":\"\"}},\"ternary\":{\"bgcolor\":\"#E5ECF6\",\"aaxis\":{\"gridcolor\":\"white\",\"linecolor\":\"white\",\"ticks\":\"\"},\"baxis\":{\"gridcolor\":\"white\",\"linecolor\":\"white\",\"ticks\":\"\"},\"caxis\":{\"gridcolor\":\"white\",\"linecolor\":\"white\",\"ticks\":\"\"}},\"coloraxis\":{\"colorbar\":{\"outlinewidth\":0,\"ticks\":\"\"}},\"colorscale\":{\"sequential\":[[0.0,\"#0d0887\"],[0.1111111111111111,\"#46039f\"],[0.2222222222222222,\"#7201a8\"],[0.3333333333333333,\"#9c179e\"],[0.4444444444444444,\"#bd3786\"],[0.5555555555555556,\"#d8576b\"],[0.6666666666666666,\"#ed7953\"],[0.7777777777777778,\"#fb9f3a\"],[0.8888888888888888,\"#fdca26\"],[1.0,\"#f0f921\"]],\"sequentialminus\":[[0.0,\"#0d0887\"],[0.1111111111111111,\"#46039f\"],[0.2222222222222222,\"#7201a8\"],[0.3333333333333333,\"#9c179e\"],[0.4444444444444444,\"#bd3786\"],[0.5555555555555556,\"#d8576b\"],[0.6666666666666666,\"#ed7953\"],[0.7777777777777778,\"#fb9f3a\"],[0.8888888888888888,\"#fdca26\"],[1.0,\"#f0f921\"]],\"diverging\":[[0,\"#8e0152\"],[0.1,\"#c51b7d\"],[0.2,\"#de77ae\"],[0.3,\"#f1b6da\"],[0.4,\"#fde0ef\"],[0.5,\"#f7f7f7\"],[0.6,\"#e6f5d0\"],[0.7,\"#b8e186\"],[0.8,\"#7fbc41\"],[0.9,\"#4d9221\"],[1,\"#276419\"]]},\"xaxis\":{\"gridcolor\":\"white\",\"linecolor\":\"white\",\"ticks\":\"\",\"title\":{\"standoff\":15},\"zerolinecolor\":\"white\",\"automargin\":true,\"zerolinewidth\":2},\"yaxis\":{\"gridcolor\":\"white\",\"linecolor\":\"white\",\"ticks\":\"\",\"title\":{\"standoff\":15},\"zerolinecolor\":\"white\",\"automargin\":true,\"zerolinewidth\":2},\"scene\":{\"xaxis\":{\"backgroundcolor\":\"#E5ECF6\",\"gridcolor\":\"white\",\"linecolor\":\"white\",\"showbackground\":true,\"ticks\":\"\",\"zerolinecolor\":\"white\",\"gridwidth\":2},\"yaxis\":{\"backgroundcolor\":\"#E5ECF6\",\"gridcolor\":\"white\",\"linecolor\":\"white\",\"showbackground\":true,\"ticks\":\"\",\"zerolinecolor\":\"white\",\"gridwidth\":2},\"zaxis\":{\"backgroundcolor\":\"#E5ECF6\",\"gridcolor\":\"white\",\"linecolor\":\"white\",\"showbackground\":true,\"ticks\":\"\",\"zerolinecolor\":\"white\",\"gridwidth\":2}},\"shapedefaults\":{\"line\":{\"color\":\"#2a3f5f\"}},\"annotationdefaults\":{\"arrowcolor\":\"#2a3f5f\",\"arrowhead\":0,\"arrowwidth\":1},\"geo\":{\"bgcolor\":\"white\",\"landcolor\":\"#E5ECF6\",\"subunitcolor\":\"white\",\"showland\":true,\"showlakes\":true,\"lakecolor\":\"white\"},\"title\":{\"x\":0.05},\"mapbox\":{\"style\":\"light\"}}},\"geo\":{\"domain\":{\"x\":[0.0,1.0],\"y\":[0.0,1.0]},\"center\":{},\"scope\":\"usa\"},\"coloraxis\":{\"colorbar\":{\"title\":{\"text\":\"color\"}},\"colorscale\":[[0.0,\"rgb(252,251,253)\"],[0.125,\"rgb(239,237,245)\"],[0.25,\"rgb(218,218,235)\"],[0.375,\"rgb(188,189,220)\"],[0.5,\"rgb(158,154,200)\"],[0.625,\"rgb(128,125,186)\"],[0.75,\"rgb(106,81,163)\"],[0.875,\"rgb(84,39,143)\"],[1.0,\"rgb(63,0,125)\"]]},\"legend\":{\"tracegroupgap\":0},\"title\":{\"text\":\"What percentage of teenagers are always or usually successfully managing their emotions?\",\"x\":0.5},\"margin\":{\"l\":20,\"r\":20,\"t\":40,\"b\":20}},                        {\"responsive\": true}                    ).then(function(){\n",
       "                            \n",
       "var gd = document.getElementById('0151754b-f1f0-4fbf-af8f-1100bc8aa25b');\n",
       "var x = new MutationObserver(function (mutations, observer) {{\n",
       "        var display = window.getComputedStyle(gd).display;\n",
       "        if (!display || display === 'none') {{\n",
       "            console.log([gd, 'removed!']);\n",
       "            Plotly.purge(gd);\n",
       "            observer.disconnect();\n",
       "        }}\n",
       "}});\n",
       "\n",
       "// Listen for the removal of the full notebook cells\n",
       "var notebookContainer = gd.closest('#notebook-container');\n",
       "if (notebookContainer) {{\n",
       "    x.observe(notebookContainer, {childList: true});\n",
       "}}\n",
       "\n",
       "// Listen for the clearing of the current output cell\n",
       "var outputEl = gd.closest('.output');\n",
       "if (outputEl) {{\n",
       "    x.observe(outputEl, {childList: true});\n",
       "}}\n",
       "\n",
       "                        })                };                });            </script>        </div>"
      ]
     },
     "metadata": {},
     "output_type": "display_data"
    }
   ],
   "source": [
    "current_set = meets_flourishing_criteria(subset_for_state_maps, teen_flourishing_df, 'emotional_regulation')\n",
    "current_set"
   ]
  },
  {
   "cell_type": "code",
   "execution_count": 40,
   "id": "7f6db4c4-9fe5-4ab2-9f28-ce3fb1fd5dc1",
   "metadata": {},
   "outputs": [
    {
     "data": {
      "application/vnd.plotly.v1+json": {
       "config": {
        "plotlyServerURL": "https://plot.ly"
       },
       "data": [
        {
         "coloraxis": "coloraxis",
         "geo": "geo",
         "hovertemplate": "locations=%{location}<br>color=%{z}<extra></extra>",
         "locationmode": "USA-states",
         "locations": [
          "AK",
          "AL",
          "AR",
          "AZ",
          "CA",
          "CO",
          "CT",
          "DC",
          "DE",
          "FL",
          "GA",
          "HI",
          "IA",
          "ID",
          "IL",
          "IN",
          "KS",
          "KY",
          "LA",
          "MA",
          "MD",
          "ME",
          "MI",
          "MN",
          "MO",
          "MS",
          "MT",
          "NC",
          "ND",
          "NE",
          "NH",
          "NJ",
          "NM",
          "NV",
          "NY",
          "OH",
          "OK",
          "OR",
          "PA",
          "RI",
          "SC",
          "SD",
          "TN",
          "TX",
          "UT",
          "VA",
          "VT",
          "WA",
          "WI",
          "WV",
          "WY"
         ],
         "name": "",
         "type": "choropleth",
         "z": [
          0.6635514018691588,
          0.6702127659574468,
          0.6940639269406392,
          0.7105263157894737,
          0.7094846900672144,
          0.6838565022421524,
          0.7053941908713693,
          0.7185929648241206,
          0.6473429951690821,
          0.7242990654205608,
          0.7272727272727273,
          0.6529680365296804,
          0.7219512195121951,
          0.6582278481012658,
          0.748792270531401,
          0.5963302752293578,
          0.7292576419213974,
          0.6746411483253588,
          0.6842105263157895,
          0.6802030456852792,
          0.7407407407407407,
          0.6487603305785123,
          0.6933333333333334,
          0.6746411483253588,
          0.6538461538461539,
          0.7157894736842105,
          0.6216216216216216,
          0.7212389380530974,
          0.6372093023255814,
          0.6751824817518248,
          0.6802325581395349,
          0.694300518134715,
          0.7342995169082126,
          0.6974358974358974,
          0.7156862745098039,
          0.6791044776119403,
          0.6851851851851852,
          0.6335311572700296,
          0.675990675990676,
          0.644808743169399,
          0.6602870813397129,
          0.6743119266055045,
          0.6985743380855397,
          0.7594339622641509,
          0.6585365853658537,
          0.6548672566371682,
          0.6203703703703703,
          0.5773195876288659,
          0.6594827586206896,
          0.7079646017699115,
          0.6707317073170732
         ]
        }
       ],
       "layout": {
        "autosize": true,
        "coloraxis": {
         "colorbar": {
          "title": {
           "text": "color"
          }
         },
         "colorscale": [
          [
           0,
           "rgb(247,252,245)"
          ],
          [
           0.125,
           "rgb(229,245,224)"
          ],
          [
           0.25,
           "rgb(199,233,192)"
          ],
          [
           0.375,
           "rgb(161,217,155)"
          ],
          [
           0.5,
           "rgb(116,196,118)"
          ],
          [
           0.625,
           "rgb(65,171,93)"
          ],
          [
           0.75,
           "rgb(35,139,69)"
          ],
          [
           0.875,
           "rgb(0,109,44)"
          ],
          [
           1,
           "rgb(0,68,27)"
          ]
         ]
        },
        "geo": {
         "center": {},
         "domain": {
          "x": [
           0,
           1
          ],
          "y": [
           0,
           1
          ]
         },
         "scope": "usa"
        },
        "legend": {
         "tracegroupgap": 0
        },
        "margin": {
         "b": 20,
         "l": 20,
         "r": 20,
         "t": 40
        },
        "template": {
         "data": {
          "bar": [
           {
            "error_x": {
             "color": "#2a3f5f"
            },
            "error_y": {
             "color": "#2a3f5f"
            },
            "marker": {
             "line": {
              "color": "#E5ECF6",
              "width": 0.5
             },
             "pattern": {
              "fillmode": "overlay",
              "size": 10,
              "solidity": 0.2
             }
            },
            "type": "bar"
           }
          ],
          "barpolar": [
           {
            "marker": {
             "line": {
              "color": "#E5ECF6",
              "width": 0.5
             },
             "pattern": {
              "fillmode": "overlay",
              "size": 10,
              "solidity": 0.2
             }
            },
            "type": "barpolar"
           }
          ],
          "carpet": [
           {
            "aaxis": {
             "endlinecolor": "#2a3f5f",
             "gridcolor": "white",
             "linecolor": "white",
             "minorgridcolor": "white",
             "startlinecolor": "#2a3f5f"
            },
            "baxis": {
             "endlinecolor": "#2a3f5f",
             "gridcolor": "white",
             "linecolor": "white",
             "minorgridcolor": "white",
             "startlinecolor": "#2a3f5f"
            },
            "type": "carpet"
           }
          ],
          "choropleth": [
           {
            "colorbar": {
             "outlinewidth": 0,
             "ticks": ""
            },
            "type": "choropleth"
           }
          ],
          "contour": [
           {
            "colorbar": {
             "outlinewidth": 0,
             "ticks": ""
            },
            "colorscale": [
             [
              0,
              "#0d0887"
             ],
             [
              0.1111111111111111,
              "#46039f"
             ],
             [
              0.2222222222222222,
              "#7201a8"
             ],
             [
              0.3333333333333333,
              "#9c179e"
             ],
             [
              0.4444444444444444,
              "#bd3786"
             ],
             [
              0.5555555555555556,
              "#d8576b"
             ],
             [
              0.6666666666666666,
              "#ed7953"
             ],
             [
              0.7777777777777778,
              "#fb9f3a"
             ],
             [
              0.8888888888888888,
              "#fdca26"
             ],
             [
              1,
              "#f0f921"
             ]
            ],
            "type": "contour"
           }
          ],
          "contourcarpet": [
           {
            "colorbar": {
             "outlinewidth": 0,
             "ticks": ""
            },
            "type": "contourcarpet"
           }
          ],
          "heatmap": [
           {
            "colorbar": {
             "outlinewidth": 0,
             "ticks": ""
            },
            "colorscale": [
             [
              0,
              "#0d0887"
             ],
             [
              0.1111111111111111,
              "#46039f"
             ],
             [
              0.2222222222222222,
              "#7201a8"
             ],
             [
              0.3333333333333333,
              "#9c179e"
             ],
             [
              0.4444444444444444,
              "#bd3786"
             ],
             [
              0.5555555555555556,
              "#d8576b"
             ],
             [
              0.6666666666666666,
              "#ed7953"
             ],
             [
              0.7777777777777778,
              "#fb9f3a"
             ],
             [
              0.8888888888888888,
              "#fdca26"
             ],
             [
              1,
              "#f0f921"
             ]
            ],
            "type": "heatmap"
           }
          ],
          "heatmapgl": [
           {
            "colorbar": {
             "outlinewidth": 0,
             "ticks": ""
            },
            "colorscale": [
             [
              0,
              "#0d0887"
             ],
             [
              0.1111111111111111,
              "#46039f"
             ],
             [
              0.2222222222222222,
              "#7201a8"
             ],
             [
              0.3333333333333333,
              "#9c179e"
             ],
             [
              0.4444444444444444,
              "#bd3786"
             ],
             [
              0.5555555555555556,
              "#d8576b"
             ],
             [
              0.6666666666666666,
              "#ed7953"
             ],
             [
              0.7777777777777778,
              "#fb9f3a"
             ],
             [
              0.8888888888888888,
              "#fdca26"
             ],
             [
              1,
              "#f0f921"
             ]
            ],
            "type": "heatmapgl"
           }
          ],
          "histogram": [
           {
            "marker": {
             "pattern": {
              "fillmode": "overlay",
              "size": 10,
              "solidity": 0.2
             }
            },
            "type": "histogram"
           }
          ],
          "histogram2d": [
           {
            "colorbar": {
             "outlinewidth": 0,
             "ticks": ""
            },
            "colorscale": [
             [
              0,
              "#0d0887"
             ],
             [
              0.1111111111111111,
              "#46039f"
             ],
             [
              0.2222222222222222,
              "#7201a8"
             ],
             [
              0.3333333333333333,
              "#9c179e"
             ],
             [
              0.4444444444444444,
              "#bd3786"
             ],
             [
              0.5555555555555556,
              "#d8576b"
             ],
             [
              0.6666666666666666,
              "#ed7953"
             ],
             [
              0.7777777777777778,
              "#fb9f3a"
             ],
             [
              0.8888888888888888,
              "#fdca26"
             ],
             [
              1,
              "#f0f921"
             ]
            ],
            "type": "histogram2d"
           }
          ],
          "histogram2dcontour": [
           {
            "colorbar": {
             "outlinewidth": 0,
             "ticks": ""
            },
            "colorscale": [
             [
              0,
              "#0d0887"
             ],
             [
              0.1111111111111111,
              "#46039f"
             ],
             [
              0.2222222222222222,
              "#7201a8"
             ],
             [
              0.3333333333333333,
              "#9c179e"
             ],
             [
              0.4444444444444444,
              "#bd3786"
             ],
             [
              0.5555555555555556,
              "#d8576b"
             ],
             [
              0.6666666666666666,
              "#ed7953"
             ],
             [
              0.7777777777777778,
              "#fb9f3a"
             ],
             [
              0.8888888888888888,
              "#fdca26"
             ],
             [
              1,
              "#f0f921"
             ]
            ],
            "type": "histogram2dcontour"
           }
          ],
          "mesh3d": [
           {
            "colorbar": {
             "outlinewidth": 0,
             "ticks": ""
            },
            "type": "mesh3d"
           }
          ],
          "parcoords": [
           {
            "line": {
             "colorbar": {
              "outlinewidth": 0,
              "ticks": ""
             }
            },
            "type": "parcoords"
           }
          ],
          "pie": [
           {
            "automargin": true,
            "type": "pie"
           }
          ],
          "scatter": [
           {
            "fillpattern": {
             "fillmode": "overlay",
             "size": 10,
             "solidity": 0.2
            },
            "type": "scatter"
           }
          ],
          "scatter3d": [
           {
            "line": {
             "colorbar": {
              "outlinewidth": 0,
              "ticks": ""
             }
            },
            "marker": {
             "colorbar": {
              "outlinewidth": 0,
              "ticks": ""
             }
            },
            "type": "scatter3d"
           }
          ],
          "scattercarpet": [
           {
            "marker": {
             "colorbar": {
              "outlinewidth": 0,
              "ticks": ""
             }
            },
            "type": "scattercarpet"
           }
          ],
          "scattergeo": [
           {
            "marker": {
             "colorbar": {
              "outlinewidth": 0,
              "ticks": ""
             }
            },
            "type": "scattergeo"
           }
          ],
          "scattergl": [
           {
            "marker": {
             "colorbar": {
              "outlinewidth": 0,
              "ticks": ""
             }
            },
            "type": "scattergl"
           }
          ],
          "scattermapbox": [
           {
            "marker": {
             "colorbar": {
              "outlinewidth": 0,
              "ticks": ""
             }
            },
            "type": "scattermapbox"
           }
          ],
          "scatterpolar": [
           {
            "marker": {
             "colorbar": {
              "outlinewidth": 0,
              "ticks": ""
             }
            },
            "type": "scatterpolar"
           }
          ],
          "scatterpolargl": [
           {
            "marker": {
             "colorbar": {
              "outlinewidth": 0,
              "ticks": ""
             }
            },
            "type": "scatterpolargl"
           }
          ],
          "scatterternary": [
           {
            "marker": {
             "colorbar": {
              "outlinewidth": 0,
              "ticks": ""
             }
            },
            "type": "scatterternary"
           }
          ],
          "surface": [
           {
            "colorbar": {
             "outlinewidth": 0,
             "ticks": ""
            },
            "colorscale": [
             [
              0,
              "#0d0887"
             ],
             [
              0.1111111111111111,
              "#46039f"
             ],
             [
              0.2222222222222222,
              "#7201a8"
             ],
             [
              0.3333333333333333,
              "#9c179e"
             ],
             [
              0.4444444444444444,
              "#bd3786"
             ],
             [
              0.5555555555555556,
              "#d8576b"
             ],
             [
              0.6666666666666666,
              "#ed7953"
             ],
             [
              0.7777777777777778,
              "#fb9f3a"
             ],
             [
              0.8888888888888888,
              "#fdca26"
             ],
             [
              1,
              "#f0f921"
             ]
            ],
            "type": "surface"
           }
          ],
          "table": [
           {
            "cells": {
             "fill": {
              "color": "#EBF0F8"
             },
             "line": {
              "color": "white"
             }
            },
            "header": {
             "fill": {
              "color": "#C8D4E3"
             },
             "line": {
              "color": "white"
             }
            },
            "type": "table"
           }
          ]
         },
         "layout": {
          "annotationdefaults": {
           "arrowcolor": "#2a3f5f",
           "arrowhead": 0,
           "arrowwidth": 1
          },
          "autotypenumbers": "strict",
          "coloraxis": {
           "colorbar": {
            "outlinewidth": 0,
            "ticks": ""
           }
          },
          "colorscale": {
           "diverging": [
            [
             0,
             "#8e0152"
            ],
            [
             0.1,
             "#c51b7d"
            ],
            [
             0.2,
             "#de77ae"
            ],
            [
             0.3,
             "#f1b6da"
            ],
            [
             0.4,
             "#fde0ef"
            ],
            [
             0.5,
             "#f7f7f7"
            ],
            [
             0.6,
             "#e6f5d0"
            ],
            [
             0.7,
             "#b8e186"
            ],
            [
             0.8,
             "#7fbc41"
            ],
            [
             0.9,
             "#4d9221"
            ],
            [
             1,
             "#276419"
            ]
           ],
           "sequential": [
            [
             0,
             "#0d0887"
            ],
            [
             0.1111111111111111,
             "#46039f"
            ],
            [
             0.2222222222222222,
             "#7201a8"
            ],
            [
             0.3333333333333333,
             "#9c179e"
            ],
            [
             0.4444444444444444,
             "#bd3786"
            ],
            [
             0.5555555555555556,
             "#d8576b"
            ],
            [
             0.6666666666666666,
             "#ed7953"
            ],
            [
             0.7777777777777778,
             "#fb9f3a"
            ],
            [
             0.8888888888888888,
             "#fdca26"
            ],
            [
             1,
             "#f0f921"
            ]
           ],
           "sequentialminus": [
            [
             0,
             "#0d0887"
            ],
            [
             0.1111111111111111,
             "#46039f"
            ],
            [
             0.2222222222222222,
             "#7201a8"
            ],
            [
             0.3333333333333333,
             "#9c179e"
            ],
            [
             0.4444444444444444,
             "#bd3786"
            ],
            [
             0.5555555555555556,
             "#d8576b"
            ],
            [
             0.6666666666666666,
             "#ed7953"
            ],
            [
             0.7777777777777778,
             "#fb9f3a"
            ],
            [
             0.8888888888888888,
             "#fdca26"
            ],
            [
             1,
             "#f0f921"
            ]
           ]
          },
          "colorway": [
           "#636efa",
           "#EF553B",
           "#00cc96",
           "#ab63fa",
           "#FFA15A",
           "#19d3f3",
           "#FF6692",
           "#B6E880",
           "#FF97FF",
           "#FECB52"
          ],
          "font": {
           "color": "#2a3f5f"
          },
          "geo": {
           "bgcolor": "white",
           "lakecolor": "white",
           "landcolor": "#E5ECF6",
           "showlakes": true,
           "showland": true,
           "subunitcolor": "white"
          },
          "hoverlabel": {
           "align": "left"
          },
          "hovermode": "closest",
          "mapbox": {
           "style": "light"
          },
          "paper_bgcolor": "white",
          "plot_bgcolor": "#E5ECF6",
          "polar": {
           "angularaxis": {
            "gridcolor": "white",
            "linecolor": "white",
            "ticks": ""
           },
           "bgcolor": "#E5ECF6",
           "radialaxis": {
            "gridcolor": "white",
            "linecolor": "white",
            "ticks": ""
           }
          },
          "scene": {
           "xaxis": {
            "backgroundcolor": "#E5ECF6",
            "gridcolor": "white",
            "gridwidth": 2,
            "linecolor": "white",
            "showbackground": true,
            "ticks": "",
            "zerolinecolor": "white"
           },
           "yaxis": {
            "backgroundcolor": "#E5ECF6",
            "gridcolor": "white",
            "gridwidth": 2,
            "linecolor": "white",
            "showbackground": true,
            "ticks": "",
            "zerolinecolor": "white"
           },
           "zaxis": {
            "backgroundcolor": "#E5ECF6",
            "gridcolor": "white",
            "gridwidth": 2,
            "linecolor": "white",
            "showbackground": true,
            "ticks": "",
            "zerolinecolor": "white"
           }
          },
          "shapedefaults": {
           "line": {
            "color": "#2a3f5f"
           }
          },
          "ternary": {
           "aaxis": {
            "gridcolor": "white",
            "linecolor": "white",
            "ticks": ""
           },
           "baxis": {
            "gridcolor": "white",
            "linecolor": "white",
            "ticks": ""
           },
           "bgcolor": "#E5ECF6",
           "caxis": {
            "gridcolor": "white",
            "linecolor": "white",
            "ticks": ""
           }
          },
          "title": {
           "x": 0.05
          },
          "xaxis": {
           "automargin": true,
           "gridcolor": "white",
           "linecolor": "white",
           "ticks": "",
           "title": {
            "standoff": 15
           },
           "zerolinecolor": "white",
           "zerolinewidth": 2
          },
          "yaxis": {
           "automargin": true,
           "gridcolor": "white",
           "linecolor": "white",
           "ticks": "",
           "title": {
            "standoff": 15
           },
           "zerolinecolor": "white",
           "zerolinewidth": 2
          }
         }
        },
        "title": {
         "text": "What percentage of school-age children are always or usually successfully managing their emotions?",
         "x": 0.5
        }
       }
      },
      "image/png": "[encoded data removed]",
      "text/html": [
       "<div>                            <div id=\"088d3905-b187-4762-a7ca-f37ff10347a3\" class=\"plotly-graph-div\" style=\"height:525px; width:100%;\"></div>            <script type=\"text/javascript\">                require([\"plotly\"], function(Plotly) {                    window.PLOTLYENV=window.PLOTLYENV || {};                                    if (document.getElementById(\"088d3905-b187-4762-a7ca-f37ff10347a3\")) {                    Plotly.newPlot(                        \"088d3905-b187-4762-a7ca-f37ff10347a3\",                        [{\"coloraxis\":\"coloraxis\",\"geo\":\"geo\",\"hovertemplate\":\"locations=%{location}\\u003cbr\\u003ecolor=%{z}\\u003cextra\\u003e\\u003c\\u002fextra\\u003e\",\"locationmode\":\"USA-states\",\"locations\":[\"AK\",\"AL\",\"AR\",\"AZ\",\"CA\",\"CO\",\"CT\",\"DC\",\"DE\",\"FL\",\"GA\",\"HI\",\"IA\",\"ID\",\"IL\",\"IN\",\"KS\",\"KY\",\"LA\",\"MA\",\"MD\",\"ME\",\"MI\",\"MN\",\"MO\",\"MS\",\"MT\",\"NC\",\"ND\",\"NE\",\"NH\",\"NJ\",\"NM\",\"NV\",\"NY\",\"OH\",\"OK\",\"OR\",\"PA\",\"RI\",\"SC\",\"SD\",\"TN\",\"TX\",\"UT\",\"VA\",\"VT\",\"WA\",\"WI\",\"WV\",\"WY\"],\"name\":\"\",\"z\":[0.6635514018691588,0.6702127659574468,0.6940639269406392,0.7105263157894737,0.7094846900672144,0.6838565022421524,0.7053941908713693,0.7185929648241206,0.6473429951690821,0.7242990654205608,0.7272727272727273,0.6529680365296804,0.7219512195121951,0.6582278481012658,0.748792270531401,0.5963302752293578,0.7292576419213974,0.6746411483253588,0.6842105263157895,0.6802030456852792,0.7407407407407407,0.6487603305785123,0.6933333333333334,0.6746411483253588,0.6538461538461539,0.7157894736842105,0.6216216216216216,0.7212389380530974,0.6372093023255814,0.6751824817518248,0.6802325581395349,0.694300518134715,0.7342995169082126,0.6974358974358974,0.7156862745098039,0.6791044776119403,0.6851851851851852,0.6335311572700296,0.675990675990676,0.644808743169399,0.6602870813397129,0.6743119266055045,0.6985743380855397,0.7594339622641509,0.6585365853658537,0.6548672566371682,0.6203703703703703,0.5773195876288659,0.6594827586206896,0.7079646017699115,0.6707317073170732],\"type\":\"choropleth\"}],                        {\"template\":{\"data\":{\"histogram2dcontour\":[{\"type\":\"histogram2dcontour\",\"colorbar\":{\"outlinewidth\":0,\"ticks\":\"\"},\"colorscale\":[[0.0,\"#0d0887\"],[0.1111111111111111,\"#46039f\"],[0.2222222222222222,\"#7201a8\"],[0.3333333333333333,\"#9c179e\"],[0.4444444444444444,\"#bd3786\"],[0.5555555555555556,\"#d8576b\"],[0.6666666666666666,\"#ed7953\"],[0.7777777777777778,\"#fb9f3a\"],[0.8888888888888888,\"#fdca26\"],[1.0,\"#f0f921\"]]}],\"choropleth\":[{\"type\":\"choropleth\",\"colorbar\":{\"outlinewidth\":0,\"ticks\":\"\"}}],\"histogram2d\":[{\"type\":\"histogram2d\",\"colorbar\":{\"outlinewidth\":0,\"ticks\":\"\"},\"colorscale\":[[0.0,\"#0d0887\"],[0.1111111111111111,\"#46039f\"],[0.2222222222222222,\"#7201a8\"],[0.3333333333333333,\"#9c179e\"],[0.4444444444444444,\"#bd3786\"],[0.5555555555555556,\"#d8576b\"],[0.6666666666666666,\"#ed7953\"],[0.7777777777777778,\"#fb9f3a\"],[0.8888888888888888,\"#fdca26\"],[1.0,\"#f0f921\"]]}],\"heatmap\":[{\"type\":\"heatmap\",\"colorbar\":{\"outlinewidth\":0,\"ticks\":\"\"},\"colorscale\":[[0.0,\"#0d0887\"],[0.1111111111111111,\"#46039f\"],[0.2222222222222222,\"#7201a8\"],[0.3333333333333333,\"#9c179e\"],[0.4444444444444444,\"#bd3786\"],[0.5555555555555556,\"#d8576b\"],[0.6666666666666666,\"#ed7953\"],[0.7777777777777778,\"#fb9f3a\"],[0.8888888888888888,\"#fdca26\"],[1.0,\"#f0f921\"]]}],\"heatmapgl\":[{\"type\":\"heatmapgl\",\"colorbar\":{\"outlinewidth\":0,\"ticks\":\"\"},\"colorscale\":[[0.0,\"#0d0887\"],[0.1111111111111111,\"#46039f\"],[0.2222222222222222,\"#7201a8\"],[0.3333333333333333,\"#9c179e\"],[0.4444444444444444,\"#bd3786\"],[0.5555555555555556,\"#d8576b\"],[0.6666666666666666,\"#ed7953\"],[0.7777777777777778,\"#fb9f3a\"],[0.8888888888888888,\"#fdca26\"],[1.0,\"#f0f921\"]]}],\"contourcarpet\":[{\"type\":\"contourcarpet\",\"colorbar\":{\"outlinewidth\":0,\"ticks\":\"\"}}],\"contour\":[{\"type\":\"contour\",\"colorbar\":{\"outlinewidth\":0,\"ticks\":\"\"},\"colorscale\":[[0.0,\"#0d0887\"],[0.1111111111111111,\"#46039f\"],[0.2222222222222222,\"#7201a8\"],[0.3333333333333333,\"#9c179e\"],[0.4444444444444444,\"#bd3786\"],[0.5555555555555556,\"#d8576b\"],[0.6666666666666666,\"#ed7953\"],[0.7777777777777778,\"#fb9f3a\"],[0.8888888888888888,\"#fdca26\"],[1.0,\"#f0f921\"]]}],\"surface\":[{\"type\":\"surface\",\"colorbar\":{\"outlinewidth\":0,\"ticks\":\"\"},\"colorscale\":[[0.0,\"#0d0887\"],[0.1111111111111111,\"#46039f\"],[0.2222222222222222,\"#7201a8\"],[0.3333333333333333,\"#9c179e\"],[0.4444444444444444,\"#bd3786\"],[0.5555555555555556,\"#d8576b\"],[0.6666666666666666,\"#ed7953\"],[0.7777777777777778,\"#fb9f3a\"],[0.8888888888888888,\"#fdca26\"],[1.0,\"#f0f921\"]]}],\"mesh3d\":[{\"type\":\"mesh3d\",\"colorbar\":{\"outlinewidth\":0,\"ticks\":\"\"}}],\"scatter\":[{\"fillpattern\":{\"fillmode\":\"overlay\",\"size\":10,\"solidity\":0.2},\"type\":\"scatter\"}],\"parcoords\":[{\"type\":\"parcoords\",\"line\":{\"colorbar\":{\"outlinewidth\":0,\"ticks\":\"\"}}}],\"scatterpolargl\":[{\"type\":\"scatterpolargl\",\"marker\":{\"colorbar\":{\"outlinewidth\":0,\"ticks\":\"\"}}}],\"bar\":[{\"error_x\":{\"color\":\"#2a3f5f\"},\"error_y\":{\"color\":\"#2a3f5f\"},\"marker\":{\"line\":{\"color\":\"#E5ECF6\",\"width\":0.5},\"pattern\":{\"fillmode\":\"overlay\",\"size\":10,\"solidity\":0.2}},\"type\":\"bar\"}],\"scattergeo\":[{\"type\":\"scattergeo\",\"marker\":{\"colorbar\":{\"outlinewidth\":0,\"ticks\":\"\"}}}],\"scatterpolar\":[{\"type\":\"scatterpolar\",\"marker\":{\"colorbar\":{\"outlinewidth\":0,\"ticks\":\"\"}}}],\"histogram\":[{\"marker\":{\"pattern\":{\"fillmode\":\"overlay\",\"size\":10,\"solidity\":0.2}},\"type\":\"histogram\"}],\"scattergl\":[{\"type\":\"scattergl\",\"marker\":{\"colorbar\":{\"outlinewidth\":0,\"ticks\":\"\"}}}],\"scatter3d\":[{\"type\":\"scatter3d\",\"line\":{\"colorbar\":{\"outlinewidth\":0,\"ticks\":\"\"}},\"marker\":{\"colorbar\":{\"outlinewidth\":0,\"ticks\":\"\"}}}],\"scattermapbox\":[{\"type\":\"scattermapbox\",\"marker\":{\"colorbar\":{\"outlinewidth\":0,\"ticks\":\"\"}}}],\"scatterternary\":[{\"type\":\"scatterternary\",\"marker\":{\"colorbar\":{\"outlinewidth\":0,\"ticks\":\"\"}}}],\"scattercarpet\":[{\"type\":\"scattercarpet\",\"marker\":{\"colorbar\":{\"outlinewidth\":0,\"ticks\":\"\"}}}],\"carpet\":[{\"aaxis\":{\"endlinecolor\":\"#2a3f5f\",\"gridcolor\":\"white\",\"linecolor\":\"white\",\"minorgridcolor\":\"white\",\"startlinecolor\":\"#2a3f5f\"},\"baxis\":{\"endlinecolor\":\"#2a3f5f\",\"gridcolor\":\"white\",\"linecolor\":\"white\",\"minorgridcolor\":\"white\",\"startlinecolor\":\"#2a3f5f\"},\"type\":\"carpet\"}],\"table\":[{\"cells\":{\"fill\":{\"color\":\"#EBF0F8\"},\"line\":{\"color\":\"white\"}},\"header\":{\"fill\":{\"color\":\"#C8D4E3\"},\"line\":{\"color\":\"white\"}},\"type\":\"table\"}],\"barpolar\":[{\"marker\":{\"line\":{\"color\":\"#E5ECF6\",\"width\":0.5},\"pattern\":{\"fillmode\":\"overlay\",\"size\":10,\"solidity\":0.2}},\"type\":\"barpolar\"}],\"pie\":[{\"automargin\":true,\"type\":\"pie\"}]},\"layout\":{\"autotypenumbers\":\"strict\",\"colorway\":[\"#636efa\",\"#EF553B\",\"#00cc96\",\"#ab63fa\",\"#FFA15A\",\"#19d3f3\",\"#FF6692\",\"#B6E880\",\"#FF97FF\",\"#FECB52\"],\"font\":{\"color\":\"#2a3f5f\"},\"hovermode\":\"closest\",\"hoverlabel\":{\"align\":\"left\"},\"paper_bgcolor\":\"white\",\"plot_bgcolor\":\"#E5ECF6\",\"polar\":{\"bgcolor\":\"#E5ECF6\",\"angularaxis\":{\"gridcolor\":\"white\",\"linecolor\":\"white\",\"ticks\":\"\"},\"radialaxis\":{\"gridcolor\":\"white\",\"linecolor\":\"white\",\"ticks\":\"\"}},\"ternary\":{\"bgcolor\":\"#E5ECF6\",\"aaxis\":{\"gridcolor\":\"white\",\"linecolor\":\"white\",\"ticks\":\"\"},\"baxis\":{\"gridcolor\":\"white\",\"linecolor\":\"white\",\"ticks\":\"\"},\"caxis\":{\"gridcolor\":\"white\",\"linecolor\":\"white\",\"ticks\":\"\"}},\"coloraxis\":{\"colorbar\":{\"outlinewidth\":0,\"ticks\":\"\"}},\"colorscale\":{\"sequential\":[[0.0,\"#0d0887\"],[0.1111111111111111,\"#46039f\"],[0.2222222222222222,\"#7201a8\"],[0.3333333333333333,\"#9c179e\"],[0.4444444444444444,\"#bd3786\"],[0.5555555555555556,\"#d8576b\"],[0.6666666666666666,\"#ed7953\"],[0.7777777777777778,\"#fb9f3a\"],[0.8888888888888888,\"#fdca26\"],[1.0,\"#f0f921\"]],\"sequentialminus\":[[0.0,\"#0d0887\"],[0.1111111111111111,\"#46039f\"],[0.2222222222222222,\"#7201a8\"],[0.3333333333333333,\"#9c179e\"],[0.4444444444444444,\"#bd3786\"],[0.5555555555555556,\"#d8576b\"],[0.6666666666666666,\"#ed7953\"],[0.7777777777777778,\"#fb9f3a\"],[0.8888888888888888,\"#fdca26\"],[1.0,\"#f0f921\"]],\"diverging\":[[0,\"#8e0152\"],[0.1,\"#c51b7d\"],[0.2,\"#de77ae\"],[0.3,\"#f1b6da\"],[0.4,\"#fde0ef\"],[0.5,\"#f7f7f7\"],[0.6,\"#e6f5d0\"],[0.7,\"#b8e186\"],[0.8,\"#7fbc41\"],[0.9,\"#4d9221\"],[1,\"#276419\"]]},\"xaxis\":{\"gridcolor\":\"white\",\"linecolor\":\"white\",\"ticks\":\"\",\"title\":{\"standoff\":15},\"zerolinecolor\":\"white\",\"automargin\":true,\"zerolinewidth\":2},\"yaxis\":{\"gridcolor\":\"white\",\"linecolor\":\"white\",\"ticks\":\"\",\"title\":{\"standoff\":15},\"zerolinecolor\":\"white\",\"automargin\":true,\"zerolinewidth\":2},\"scene\":{\"xaxis\":{\"backgroundcolor\":\"#E5ECF6\",\"gridcolor\":\"white\",\"linecolor\":\"white\",\"showbackground\":true,\"ticks\":\"\",\"zerolinecolor\":\"white\",\"gridwidth\":2},\"yaxis\":{\"backgroundcolor\":\"#E5ECF6\",\"gridcolor\":\"white\",\"linecolor\":\"white\",\"showbackground\":true,\"ticks\":\"\",\"zerolinecolor\":\"white\",\"gridwidth\":2},\"zaxis\":{\"backgroundcolor\":\"#E5ECF6\",\"gridcolor\":\"white\",\"linecolor\":\"white\",\"showbackground\":true,\"ticks\":\"\",\"zerolinecolor\":\"white\",\"gridwidth\":2}},\"shapedefaults\":{\"line\":{\"color\":\"#2a3f5f\"}},\"annotationdefaults\":{\"arrowcolor\":\"#2a3f5f\",\"arrowhead\":0,\"arrowwidth\":1},\"geo\":{\"bgcolor\":\"white\",\"landcolor\":\"#E5ECF6\",\"subunitcolor\":\"white\",\"showland\":true,\"showlakes\":true,\"lakecolor\":\"white\"},\"title\":{\"x\":0.05},\"mapbox\":{\"style\":\"light\"}}},\"geo\":{\"domain\":{\"x\":[0.0,1.0],\"y\":[0.0,1.0]},\"center\":{},\"scope\":\"usa\"},\"coloraxis\":{\"colorbar\":{\"title\":{\"text\":\"color\"}},\"colorscale\":[[0.0,\"rgb(247,252,245)\"],[0.125,\"rgb(229,245,224)\"],[0.25,\"rgb(199,233,192)\"],[0.375,\"rgb(161,217,155)\"],[0.5,\"rgb(116,196,118)\"],[0.625,\"rgb(65,171,93)\"],[0.75,\"rgb(35,139,69)\"],[0.875,\"rgb(0,109,44)\"],[1.0,\"rgb(0,68,27)\"]]},\"legend\":{\"tracegroupgap\":0},\"title\":{\"text\":\"What percentage of school-age children are always or usually successfully managing their emotions?\",\"x\":0.5},\"margin\":{\"l\":20,\"r\":20,\"t\":40,\"b\":20}},                        {\"responsive\": true}                    ).then(function(){\n",
       "                            \n",
       "var gd = document.getElementById('088d3905-b187-4762-a7ca-f37ff10347a3');\n",
       "var x = new MutationObserver(function (mutations, observer) {{\n",
       "        var display = window.getComputedStyle(gd).display;\n",
       "        if (!display || display === 'none') {{\n",
       "            console.log([gd, 'removed!']);\n",
       "            Plotly.purge(gd);\n",
       "            observer.disconnect();\n",
       "        }}\n",
       "}});\n",
       "\n",
       "// Listen for the removal of the full notebook cells\n",
       "var notebookContainer = gd.closest('#notebook-container');\n",
       "if (notebookContainer) {{\n",
       "    x.observe(notebookContainer, {childList: true});\n",
       "}}\n",
       "\n",
       "// Listen for the clearing of the current output cell\n",
       "var outputEl = gd.closest('.output');\n",
       "if (outputEl) {{\n",
       "    x.observe(outputEl, {childList: true});\n",
       "}}\n",
       "\n",
       "                        })                };                });            </script>        </div>"
      ]
     },
     "metadata": {},
     "output_type": "display_data"
    }
   ],
   "source": [
    "current_set = meets_flourishing_criteria(subset_for_state_maps, school_age_flourishing_df, 'emotional_regulation')\n",
    "current_set"
   ]
  },
  {
   "cell_type": "code",
   "execution_count": 16,
   "id": "aea8469a-816d-4dba-99d4-78d3eb7d2fc5",
   "metadata": {},
   "outputs": [],
   "source": [
    "#note- include the maps that look the most interesting here!"
   ]
  },
  {
   "cell_type": "code",
   "execution_count": null,
   "id": "74c52166-9968-46c5-8bf3-48f1771a62c7",
   "metadata": {},
   "outputs": [],
   "source": [
    "#subset_2"
   ]
  },
  {
   "cell_type": "code",
   "execution_count": null,
   "id": "9285f85c-a58c-4f14-8023-f9fb4cbf79cd",
   "metadata": {},
   "outputs": [],
   "source": [
    "family_health_df = full_data_frame[['SC_AGE_YEARS', 'A1_PHYSHEALTH', 'A1_RELATION', 'A1_SEX', 'A1_MENTHEALTH', 'A2_PHYSHEALTH', 'A2_RELATION', 'A2_SEX', \n",
    "                                    'A2_MENTHEALTH','K9Q40', 'K9Q41', 'VAPE', 'A1_EMPLOYED', 'A2_EMPLOYED', 'K8Q21', 'K6Q60_R', 'K6Q61_R', 'K8Q11', \n",
    "                                    'SCREENTIME', 'TALKABOUT', 'WKTOSOLVE', 'STRENGTHS', 'HOPEFUL', 'ACE1', 'ACE3', 'ACE4', 'ACE5', 'ACE6', 'ACE7', \n",
    "                                    'ACE8', 'ACE9', 'ACE10', 'ACE12', 'ACE11', 'K8Q31', 'K8Q32', 'K8Q34', 'K8Q35','K8Q30', 'K6Q27','CUTHOURS', 'STOPWORK', \n",
    "                                    'AVOIDCHG', 'ATHOMEHC', 'ARRANGEHC', 'K6Q20', 'BEDTIME', 'HOURSLEEP','HOURSLEEP05', 'FOODSIT', 'K11Q60', \n",
    "                                    'K11Q61', 'K11Q62', 'S9Q34', 'EBTCARDS', 'SSI', 'SSIDISABILITY', 'MISSMORTGAGE', 'HOMEEVIC', 'PLACESLIVED', \n",
    "                                    'EVERHOMELESS', 'K6Q70_R', 'K6Q73_R', 'K6Q71_R', 'K6Q72_R', 'K7Q84_R', 'K7Q85_R']]\n",
    "\n",
    "#subset of variables from the Child and Family Health Measures – Family Health and Activities (in the codebook)."
   ]
  },
  {
   "cell_type": "code",
   "execution_count": null,
   "id": "a4808331-bd00-4680-a789-eb6de57c4317",
   "metadata": {},
   "outputs": [],
   "source": [
    "young_child_family_health_df = family_health_df.loc[family_health_df['SC_AGE_YEARS'] < 6.0]\n",
    "school_age_child_family_health_df = family_health_df.loc[(family_health_df['SC_AGE_YEARS'] >= 6.0) & (family_health_df['SC_AGE_YEARS'] < 12.0)]\n",
    "teen_family_health_df = family_health_df.loc[family_health_df['SC_AGE_YEARS'] >= 12.0]"
   ]
  },
  {
   "cell_type": "code",
   "execution_count": null,
   "id": "d89d5522-3bf1-4702-971b-77dc83264c75",
   "metadata": {},
   "outputs": [],
   "source": [
    "young_child_family_health_df = young_child_family_health_df.drop(columns = ['K8Q21', 'K7Q84_R', 'K7Q85_R', 'ACE12', 'HOURSLEEP', 'SC_AGE_YEARS'])\n",
    "school_age_child_family_health_df = school_age_child_family_health_df.drop(columns = ['K6Q60_R', 'K6Q61_R', 'K6Q27', 'K6Q20',\n",
    "                                                                                      'K6Q70_R', 'K6Q73_R', 'K6Q72_R', 'HOURSLEEP05', 'SC_AGE_YEARS'])\n",
    "teen_family_health_df = teen_family_health_df.drop(columns = ['K6Q60_R', 'K6Q61_R', 'K6Q27', 'K6Q20',\n",
    "                                                              'K6Q70_R', 'K6Q73_R', 'K6Q72_R', 'HOURSLEEP05', 'SC_AGE_YEARS'])"
   ]
  },
  {
   "cell_type": "code",
   "execution_count": null,
   "id": "06760019-fe7c-4107-a18f-3d5bd1fd3a85",
   "metadata": {},
   "outputs": [],
   "source": [
    "young_child_correlation_matrix = young_child_family_health_df.corr()\n",
    "school_age_child_correlation_matrix = school_age_child_family_health_df.corr()\n",
    "teen_correlation_matrix = teen_family_health_df.corr()"
   ]
  },
  {
   "cell_type": "code",
   "execution_count": null,
   "id": "ba83a845-7ef0-4c7e-a8ab-0a0271361afa",
   "metadata": {},
   "outputs": [],
   "source": [
    "affectionate_child_family_health = young_child_correlation_matrix['K6Q70_R'].tolist()\n",
    "child_bounces_back_family_health = young_child_correlation_matrix['K6Q73_R'].tolist()\n",
    "curious_child_family_health = young_child_correlation_matrix['K6Q71_R'].tolist()\n",
    "child_smile_laugh_family_health = young_child_correlation_matrix['K6Q72_R'].tolist()\n",
    "school_age_curiosity_learning_family_health = school_age_child_correlation_matrix['K6Q71_R'].tolist()\n",
    "school_age_task_completion_family_health = school_age_child_correlation_matrix['K7Q84_R'].tolist()\n",
    "school_age_emotional_regulation_family_health = school_age_child_correlation_matrix['K7Q85_R'].tolist()\n",
    "teen_curiosity_learning_family_health = teen_correlation_matrix['K6Q71_R'].tolist()\n",
    "teen_task_completion_family_health = teen_correlation_matrix['K7Q84_R'].tolist()\n",
    "teen_emotional_regulation_family_health = teen_correlation_matrix['K7Q85_R'].tolist()"
   ]
  },
  {
   "cell_type": "code",
   "execution_count": null,
   "id": "62b71073-6f6e-4f92-8579-b97a85aff074",
   "metadata": {},
   "outputs": [],
   "source": [
    "affectionate_child_family_health = affectionate_child_family_health[0:58]\n",
    "child_bounces_back_family_health = child_bounces_back_family_health[0:58]\n",
    "curious_child_family_health = curious_child_family_health[0:58]\n",
    "child_smile_laugh_family_health = child_smile_laugh_family_health[0:58]\n",
    "school_age_curiosity_learning_family_health = school_age_curiosity_learning_family_health[0:56]\n",
    "school_age_task_completion_family_health = school_age_task_completion_family_health[0:56]\n",
    "school_age_emotional_regulation_family_health = school_age_emotional_regulation_family_health[0:56]\n",
    "teen_curiosity_learning_family_health = teen_curiosity_learning_family_health[0:56]\n",
    "teen_task_completion_family_health = teen_task_completion_family_health[0:56]\n",
    "teen_emotional_regulation_family_health = teen_emotional_regulation_family_health[0:56]"
   ]
  },
  {
   "cell_type": "code",
   "execution_count": null,
   "id": "19391926-e69c-4d99-8586-f33151e6c54e",
   "metadata": {},
   "outputs": [],
   "source": [
    "child_correlation_family_health_variables = young_child_correlation_matrix.index.tolist()\n",
    "school_age_or_teen_correlation_family_health_variables = school_age_child_correlation_matrix.index.tolist()"
   ]
  },
  {
   "cell_type": "code",
   "execution_count": null,
   "id": "dafd456e-1c11-4e78-bcc5-7d9bc0982e74",
   "metadata": {},
   "outputs": [],
   "source": [
    "def highest_correlation(column, df):\n",
    "    list_set_to_use = []\n",
    "    if df is young_child_correlation_matrix:\n",
    "        list_set_to_use = child_correlation_family_health_variables\n",
    "    #elif df is supportive_young_correlation:\n",
    "     #   list_set_to_use = child_correlation_supportive_variables\n",
    "    #elif (df is supportive_school_age) or (df is supportive_teenage):\n",
    "     #   list_set_to_use = school_age_or_teen_correlation_supportive_variables\n",
    "    else:\n",
    "        list_set_to_use = school_age_or_teen_correlation_family_health_variables\n",
    "    #elif df is supportive_young_correlation:\n",
    "     #   list_set_to_use = child_correlation_supportive_variables\n",
    "    #elif df is community_school_age_correlation:\n",
    "     #   list_set_to_use = school_age_community_variables\n",
    "    #elif df is community_teens_correlation:\n",
    "     #   list_set_to_use = teen_community_variables\n",
    "    #else:\n",
    "     #   list_set_to_use = school_age_or_teen_correlation_supportive_variables\n",
    "    i = 0\n",
    "    highest_abs_value = 0\n",
    "    actual_value = 0\n",
    "    variable_name = ''        \n",
    "    for item in column:\n",
    "        if (np.abs(item) > highest_abs_value) and (np.abs(item) != 1.0):\n",
    "            highest_abs_value = np.abs(item)\n",
    "            variable_name = list_set_to_use[i]\n",
    "            actual_value = item\n",
    "        i += 1\n",
    "    return variable_name, highest_abs_value, actual_value"
   ]
  },
  {
   "cell_type": "code",
   "execution_count": null,
   "id": "f61b5843-2526-48ff-b735-5a72cff8f392",
   "metadata": {},
   "outputs": [],
   "source": [
    "print(highest_correlation(teen_curiosity_learning_family_health, teen_correlation_matrix))\n",
    "print(highest_correlation(teen_task_completion_family_health, teen_correlation_matrix))\n",
    "print(highest_correlation(teen_emotional_regulation_family_health, teen_correlation_matrix))\n",
    "print(highest_correlation(school_age_curiosity_learning_family_health, school_age_child_correlation_matrix))\n",
    "print(highest_correlation(school_age_task_completion_family_health, school_age_child_correlation_matrix))\n",
    "print(highest_correlation(school_age_emotional_regulation_family_health, school_age_child_correlation_matrix))\n",
    "print(highest_correlation(affectionate_child_family_health, young_child_correlation_matrix))\n",
    "print(highest_correlation(child_bounces_back_family_health, young_child_correlation_matrix))\n",
    "print(highest_correlation(curious_child_family_health, young_child_correlation_matrix))\n",
    "print(highest_correlation(child_smile_laugh_family_health, young_child_correlation_matrix))"
   ]
  },
  {
   "cell_type": "code",
   "execution_count": null,
   "id": "0767fe8c-27b7-44bc-b7b9-65948e506cbe",
   "metadata": {},
   "outputs": [],
   "source": [
    "#note- if correlation value is R, this value squared would give us the % of the variation this helps to explain?\n",
    "#write a model to get r squared"
   ]
  },
  {
   "cell_type": "code",
   "execution_count": null,
   "id": "45099c9a-02fb-4dd4-b66a-dde944e7f327",
   "metadata": {},
   "outputs": [],
   "source": [
    "#community involvement- too much variability in the measures and the age spread not the same that I used for fmaily health\n",
    "#so- just try examining for supportive neighborhood!!\n",
    "#or just to try examining for 6-17 for community involvement!!\n"
   ]
  },
  {
   "cell_type": "code",
   "execution_count": null,
   "id": "b6e50295-4ff7-4f52-886a-4cd644d6293e",
   "metadata": {},
   "outputs": [],
   "source": [
    "#add age variable!\n",
    "#note- decided not to include individual learning items because they seemed to be limited to a) kids who were 3-5\n",
    "#come back to community involvement- but how to account for 1-5?\n",
    "#just examine for 6-17?\n",
    "#add the flourishing variables\n",
    "#drop missing values?"
   ]
  },
  {
   "cell_type": "code",
   "execution_count": null,
   "id": "6fe2072b-d17d-4e6c-8123-080e4a3ba1c8",
   "metadata": {},
   "outputs": [],
   "source": [
    "#check if need to fix?"
   ]
  },
  {
   "cell_type": "code",
   "execution_count": null,
   "id": "081fbdaf-e11e-4c18-a50b-a041a1129843",
   "metadata": {},
   "outputs": [],
   "source": [
    "supportive_neighborhood_young = full_data_frame[['SC_AGE_YEARS', 'K10Q30', 'K10Q31', 'GOFORHELP', 'K10Q40_R', 'K10Q11', 'K10Q12', \n",
    "                                                 'K10Q13', 'K10Q14', 'K10Q20', 'K10Q22', 'K10Q23', 'K6Q70_R', 'K6Q73_R', 'K6Q71_R', \n",
    "                                                 'K6Q72_R']]\n",
    "supportive_neighborhood_school_age_and_teens = full_data_frame[['SC_AGE_YEARS','K10Q30', 'K10Q31', 'GOFORHELP', 'K10Q40_R', 'K10Q41_R', \n",
    "                                                                'K10Q11', 'K10Q12', 'K10Q13', 'K10Q14', 'K10Q20', 'K10Q22', 'K10Q23',\n",
    "                                                                'K6Q71_R', 'K7Q84_R', 'K7Q85_R']]\n",
    "supportive_young = supportive_neighborhood_young.loc[(supportive_neighborhood_school_age_and_teens['SC_AGE_YEARS'] < 6.0)]  \n",
    "supportive_young = supportive_young.drop(columns = ['SC_AGE_YEARS'])\n",
    "supportive_school_age = supportive_neighborhood_school_age_and_teens.loc[(supportive_neighborhood_school_age_and_teens['SC_AGE_YEARS'] >= 6.0) & (full_data_frame['SC_AGE_YEARS'] < 12.0)]\n",
    "supportive_school_age = supportive_school_age.drop(columns = ['SC_AGE_YEARS'])\n",
    "supportive_teenage = supportive_neighborhood_school_age_and_teens.loc[(supportive_neighborhood_school_age_and_teens['SC_AGE_YEARS'] >= 12.0)]\n",
    "supportive_teenage = supportive_teenage.drop(columns = ['SC_AGE_YEARS'])\n",
    "#note- examine the 40 variable because different for age groups?\n",
    "                            #check same about community involvement and family?"
   ]
  },
  {
   "cell_type": "code",
   "execution_count": null,
   "id": "42860cfc-4ab8-4564-bc0b-162450a9ea35",
   "metadata": {},
   "outputs": [],
   "source": [
    "supportive_young_correlation = supportive_young.corr()\n",
    "supportive_young_correlation"
   ]
  },
  {
   "cell_type": "code",
   "execution_count": null,
   "id": "06225f3e-ee8a-4f07-b314-88db2feedfb8",
   "metadata": {},
   "outputs": [],
   "source": [
    "supportive_school_age_correlation = supportive_school_age.corr()\n",
    "#supportive_school_age_correlation"
   ]
  },
  {
   "cell_type": "code",
   "execution_count": null,
   "id": "47c3133c-d7fb-4a0c-9a7a-8c1bc2ba2fb8",
   "metadata": {},
   "outputs": [],
   "source": [
    "supportive_teen_correlation = supportive_teenage.corr()\n",
    "supportive_teen_correlation"
   ]
  },
  {
   "cell_type": "code",
   "execution_count": null,
   "id": "75e34280-ea69-46df-b9e3-70dcf582619b",
   "metadata": {},
   "outputs": [],
   "source": [
    "affectionate_child_supportive = supportive_young_correlation['K6Q70_R'].tolist()\n",
    "child_bounces_back_supportive = supportive_young_correlation['K6Q73_R'].tolist()\n",
    "curious_child_supportive = supportive_young_correlation['K6Q71_R'].tolist()\n",
    "child_smile_laugh_supportive = supportive_young_correlation['K6Q72_R'].tolist()\n",
    "school_age_curiosity_learning_supportive = supportive_school_age_correlation['K6Q71_R'].tolist()\n",
    "school_age_task_completion_supportive = supportive_school_age_correlation['K7Q84_R'].tolist()\n",
    "school_age_emotional_regulation_supportive = supportive_school_age_correlation['K7Q85_R'].tolist()\n",
    "teen_curiosity_learning_supportive = supportive_teen_correlation['K6Q71_R'].tolist()\n",
    "teen_task_completion_supportive = supportive_teen_correlation['K7Q84_R'].tolist()\n",
    "teen_emotional_regulation_supportive = supportive_teen_correlation['K7Q85_R'].tolist()"
   ]
  },
  {
   "cell_type": "code",
   "execution_count": null,
   "id": "526fbb94-c924-4e09-ab9c-bcaeb9e2442c",
   "metadata": {},
   "outputs": [],
   "source": [
    "affectionate_child_supportive = affectionate_child_supportive[0:11]\n",
    "child_bounces_back_supportive = child_bounces_back_supportive[0:11]\n",
    "curious_child_supportive = curious_child_supportive[0:11]\n",
    "child_smile_laugh_supportive = child_smile_laugh_supportive[0:11]\n",
    "school_age_curiosity_learning_supportive = school_age_curiosity_learning_supportive[0:13]\n",
    "school_age_task_completion_supportive = school_age_task_completion_supportive[0:13]\n",
    "school_age_emotional_regulation_supportive = school_age_emotional_regulation_supportive[0:13]\n",
    "teen_curiosity_learning_supportive = teen_curiosity_learning_supportive[0:13]\n",
    "teen_task_completion_supportive = teen_task_completion_supportive[0:13]\n",
    "teen_emotional_regulation_supportive = teen_emotional_regulation_supportive[0:13]"
   ]
  },
  {
   "cell_type": "code",
   "execution_count": null,
   "id": "31b98c43-85a3-412e-8344-a9688908e76a",
   "metadata": {},
   "outputs": [],
   "source": [
    "child_correlation_supportive_variables = supportive_young_correlation.index.tolist()\n",
    "school_age_or_teen_correlation_supportive_variables = supportive_school_age_correlation.index.tolist()"
   ]
  },
  {
   "cell_type": "code",
   "execution_count": null,
   "id": "ea927f79-bf1d-4cba-8193-8e4c14927cf0",
   "metadata": {},
   "outputs": [],
   "source": [
    "print(highest_correlation(affectionate_child_supportive, supportive_young_correlation))\n",
    "print(highest_correlation(child_bounces_back_supportive, supportive_young_correlation))\n",
    "print(highest_correlation(curious_child_supportive, supportive_young_correlation))\n",
    "print(highest_correlation(child_smile_laugh_supportive, supportive_young_correlation))\n",
    "print(highest_correlation(school_age_curiosity_learning_supportive, supportive_school_age_correlation))\n",
    "print(highest_correlation(school_age_task_completion_supportive, supportive_school_age_correlation))\n",
    "print(highest_correlation(school_age_emotional_regulation_supportive, supportive_school_age_correlation))\n",
    "print(highest_correlation(teen_curiosity_learning_supportive, supportive_teen_correlation))\n",
    "print(highest_correlation(teen_task_completion_supportive, supportive_teen_correlation))\n",
    "print(highest_correlation(teen_emotional_regulation_supportive, supportive_teen_correlation))"
   ]
  },
  {
   "cell_type": "code",
   "execution_count": null,
   "id": "60fc14ed-834d-4921-a30e-21411d28962d",
   "metadata": {},
   "outputs": [],
   "source": [
    "community_school_age = full_data_frame[['SC_AGE_YEARS', 'K6Q15', 'SESCURRSVC', 'K6Q15', 'SESPLANYR', 'K7Q82_R', 'K7Q83_R',\n",
    "                                        'GRADES', 'REPEATED', 'K7Q02R_R', 'K7Q30', 'K7Q31', 'K7Q32', 'K7Q33', 'K7Q37', 'K9Q96',\n",
    "                                        'K6Q71_R', 'K7Q84_R', 'K7Q85_R']]\n",
    "community_teens = full_data_frame[['SC_AGE_YEARS', 'K6Q15', 'SESCURRSVC', 'K6Q15', 'SESPLANYR', 'K7Q82_R', 'K7Q83_R',\n",
    "                                        'GRADES', 'REPEATED', 'K7Q02R_R', 'K7Q30', 'K7Q31', 'K7Q32', 'K7Q33', 'K7Q37', 'K9Q96', 'K7Q38',\n",
    "                                        'K6Q71_R', 'K7Q84_R', 'K7Q85_R']]\n",
    "community_school_age = community_school_age.loc[(community_school_age['SC_AGE_YEARS'] >= 6.0) & (full_data_frame['SC_AGE_YEARS'] < 12.0)]\n",
    "community_teens = community_teens.loc[(community_teens['SC_AGE_YEARS'] >= 12.0)]                           "
   ]
  },
  {
   "cell_type": "code",
   "execution_count": null,
   "id": "d8efd1a5-cc4f-4f34-9a14-53b40679f8da",
   "metadata": {},
   "outputs": [],
   "source": [
    "community_school_age_correlation = community_school_age.corr()\n",
    "community_teens_correlation = community_teens.corr()"
   ]
  },
  {
   "cell_type": "code",
   "execution_count": null,
   "id": "af128408-ded7-4f1f-a19e-442b715473c7",
   "metadata": {},
   "outputs": [],
   "source": [
    "community_school_age_correlation"
   ]
  },
  {
   "cell_type": "code",
   "execution_count": null,
   "id": "d7fbc3be-8a27-4742-9e46-4f2ca0a812ce",
   "metadata": {},
   "outputs": [],
   "source": [
    "community_teens_correlation"
   ]
  },
  {
   "cell_type": "code",
   "execution_count": null,
   "id": "3d5da176-989e-4e9b-9a83-bb4e5a391641",
   "metadata": {},
   "outputs": [],
   "source": [
    "school_age_curiosity_learning_community = community_school_age_correlation['K6Q71_R'].tolist()\n",
    "school_age_task_completion_community = community_school_age_correlation['K7Q84_R'].tolist()\n",
    "school_age_emotional_regulation_community = community_school_age_correlation['K7Q85_R'].tolist()\n",
    "teen_curiosity_learning_community = community_teens_correlation['K6Q71_R'].tolist()\n",
    "teen_task_completion_community = community_teens_correlation['K7Q84_R'].tolist()\n",
    "teen_emotional_regulation_community = community_teens_correlation['K7Q85_R'].tolist()"
   ]
  },
  {
   "cell_type": "code",
   "execution_count": null,
   "id": "6d768583-485d-49a5-952f-addca7e608c9",
   "metadata": {},
   "outputs": [],
   "source": [
    "school_age_curiosity_learning_community = school_age_curiosity_learning_community[0:16]\n",
    "school_age_task_completion_community = school_age_task_completion_community[0:16]\n",
    "school_age_emotional_regulation_community = school_age_emotional_regulation_community[0:16]\n",
    "teen_curiosity_learning_community = teen_curiosity_learning_community[0:16]\n",
    "teen_task_completion_community = teen_task_completion_community[0:16]\n",
    "teen_emotional_regulation_community = teen_emotional_regulation_community[0:16]"
   ]
  },
  {
   "cell_type": "code",
   "execution_count": null,
   "id": "9a9faf3e-2355-45ea-bf06-60d9ab4d25af",
   "metadata": {},
   "outputs": [],
   "source": [
    "school_age_community_variables = community_school_age_correlation.index.tolist()\n",
    "teen_community_variables = community_teens_correlation.index.tolist()"
   ]
  },
  {
   "cell_type": "code",
   "execution_count": null,
   "id": "49313635-48f2-4246-ab16-a50bd70c8ee1",
   "metadata": {},
   "outputs": [],
   "source": [
    "print(highest_correlation(school_age_curiosity_learning_community, community_school_age_correlation))\n",
    "print(highest_correlation(school_age_task_completion_community, community_school_age_correlation))\n",
    "print(highest_correlation(school_age_emotional_regulation_community, community_school_age_correlation))\n",
    "print(highest_correlation(teen_curiosity_learning_community, community_teens_correlation))\n",
    "print(highest_correlation(teen_task_completion_community, community_teens_correlation))\n",
    "print(highest_correlation(teen_emotional_regulation_community, community_teens_correlation))"
   ]
  },
  {
   "cell_type": "code",
   "execution_count": null,
   "id": "3eea2acb-c39a-4259-b662-f9ecb83c6156",
   "metadata": {},
   "outputs": [],
   "source": [
    "def create_graphs(data_frame, variable_to_examine):\n",
    "    flourishing_feature = data_frame[variable_to_examine].tolist()\n",
    "    value_1_count, value_2_count, value_3_count, value_4_count, missing_vals = 0, 0, 0, 0, 0\n",
    "    for value in flourishing_feature:\n",
    "        if value == 1.0:\n",
    "            value_1_count += 1\n",
    "        elif value == 2.0:\n",
    "            value_2_count += 1\n",
    "        elif value == 3.0:\n",
    "            value_3_count += 1\n",
    "        else:\n",
    "            value_4_count += 1\n",
    "\n",
    "    x_val = ['Always', 'Usually', 'Sometimes', 'Never']\n",
    "    y_val = [value_1_count, value_2_count, value_3_count, value_4_count]\n",
    "    fig = px.bar(x=x_val, y=y_val, text_auto = True)\n",
    "\n",
    "    title_text = ''\n",
    "    if variable_to_examine == 'affectionate_child':\n",
    "        title_text = 'How often does the child show affection?'\n",
    "    elif variable_to_examine == 'child_bounces_back':\n",
    "        title_text = 'How often does the child bounce back after challenge?'\n",
    "    elif variable_to_examine == 'curious_child':\n",
    "        title_text = 'How often is the child curious?'\n",
    "    elif variable_to_examine == 'child_smile_laugh':\n",
    "        title_text = 'How often does the child smile and laugh?'\n",
    "    elif (data_frame is school_age_flourishing_df) and (variable_to_examine == 'curiosity_learning'):\n",
    "        title_text = 'How often is the school-age child curious?'\n",
    "    elif (data_frame is school_age_flourishing_df) and variable_to_examine == 'task_completion':\n",
    "        title_text = 'How often does the school-age child work to finish tasks they start?'\n",
    "    elif (data_frame is school_age_flourishing_df) and variable_to_examine == 'emotional_regulation':\n",
    "        title_text = 'How often does the school-age child have a healthy self-regulation of emotions?'\n",
    "    elif (data_frame is teen_flourishing_df) and (variable_to_examine == 'curiosity_learning'):\n",
    "        title_text = 'How often is the teenager curious?'\n",
    "    elif (data_frame is teen_flourishing_df) and variable_to_examine == 'task_completion':\n",
    "        title_text = 'How often does the teenager work to finish tasks they start?'\n",
    "    else: \n",
    "        title_text = 'How often does the teenager have a healthy self-regulation of emotions?'\n",
    "        #    title_text = 'How often does a child smile and laugh?'\n",
    "            \n",
    "    #if data_frame == adolescent_flourishing_df:\n",
    "      #  if variable_to_examine == 'curiosity_learning':\n",
    "      #      title_text = 'How often does the adolescent have a curiosity for learning?'\n",
    "      #  elif variable_to_examine == 'task_completion':\n",
    "      #      title_text = 'How often does the adolescent bounce back after challenge?'\n",
    "      #  else: \n",
    "      #      title_text = 'How often does the adolescent have healthy self-regulation of emotions?'\n",
    "\n",
    "    fig.update_layout(xaxis_title = 'Frequency', yaxis_title = 'Number of Children', \n",
    "                      title = {'text': title_text, 'x' : 0.6, \n",
    "                     'xanchor': 'right', 'yanchor': 'top'})\n",
    "    fig.show()"
   ]
  },
  {
   "cell_type": "code",
   "execution_count": null,
   "id": "b422bd24-927a-42c5-8fd8-ed6572b3b1c7",
   "metadata": {},
   "outputs": [],
   "source": [
    "young_flourishing_df = young_flourishing_df.dropna()\n",
    "school_age_flourishing_df = school_age_flourishing_df.dropna()\n",
    "teen_flourishing_df = teen_flourishing_df.dropna()"
   ]
  },
  {
   "cell_type": "code",
   "execution_count": null,
   "id": "4e18e518-f1c6-47e9-ba63-79aabbe461ff",
   "metadata": {},
   "outputs": [],
   "source": [
    "create_graphs(young_flourishing_df, 'curious_child')"
   ]
  },
  {
   "cell_type": "code",
   "execution_count": null,
   "id": "b2ab8754-bc06-4e35-a53a-efca7f570f72",
   "metadata": {},
   "outputs": [],
   "source": [
    "create_graphs(school_age_flourishing_df, 'curiosity_learning')"
   ]
  },
  {
   "cell_type": "code",
   "execution_count": null,
   "id": "3075e23f-25fa-49b4-b49c-3549b494aa13",
   "metadata": {},
   "outputs": [],
   "source": [
    "create_graphs(teen_flourishing_df, 'curiosity_learning')"
   ]
  },
  {
   "cell_type": "code",
   "execution_count": null,
   "id": "b4ff2c8e-7bc2-453f-938e-804447c70b7b",
   "metadata": {},
   "outputs": [],
   "source": [
    "create_graphs(school_age_flourishing_df, 'emotional_regulation')"
   ]
  },
  {
   "cell_type": "code",
   "execution_count": null,
   "id": "092492a6-6ec5-4f51-8644-1e5c4e8e0459",
   "metadata": {},
   "outputs": [],
   "source": [
    "create_graphs(teen_flourishing_df, 'task_completion')"
   ]
  },
  {
   "cell_type": "code",
   "execution_count": null,
   "id": "9e6237c4-fd2b-4b98-aac3-ba047bb3e238",
   "metadata": {},
   "outputs": [],
   "source": [
    "#note- need to save the figures I'm looking at in screenshot form!!"
   ]
  }
 ],
 "metadata": {
  "kernelspec": {
   "display_name": "Python 3 (ipykernel)",
   "language": "python",
   "name": "python3"
  },
  "language_info": {
   "codemirror_mode": {
    "name": "ipython",
    "version": 3
   },
   "file_extension": ".py",
   "mimetype": "text/x-python",
   "name": "python",
   "nbconvert_exporter": "python",
   "pygments_lexer": "ipython3",
   "version": "3.11.6"
  }
 },
 "nbformat": 4,
 "nbformat_minor": 5
}
